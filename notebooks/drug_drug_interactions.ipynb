{
 "cells": [
  {
   "cell_type": "markdown",
   "id": "3f506804-521a-42ad-8cc4-d4064bd97e24",
   "metadata": {},
   "source": [
    "# Installation"
   ]
  },
  {
   "cell_type": "code",
   "execution_count": 5,
   "id": "53d32830-3d2e-411e-a414-697b44f32cde",
   "metadata": {},
   "outputs": [],
   "source": [
    "# uncomment the line below and run this code cell once\n",
    "# %run '../scripts/package_install.py'"
   ]
  },
  {
   "cell_type": "code",
   "execution_count": 6,
   "id": "296b1af5-7a7c-4aa6-8da1-fedda230bf6f",
   "metadata": {},
   "outputs": [],
   "source": [
    "import pandas as pd \n",
    "import numpy as np \n",
    "import matplotlib as np \n",
    "from sklearn.preprocessing import OneHotEncoder\n",
    "\n"
   ]
  },
  {
   "cell_type": "markdown",
   "id": "a9b8c4dd-902d-44a9-9498-61fa9f1d0b1d",
   "metadata": {},
   "source": [
    "# Loading Dataset From TDC package"
   ]
  },
  {
   "cell_type": "code",
   "execution_count": 7,
   "id": "59e10d4d-baef-4eec-9634-1e7d8fc001fc",
   "metadata": {},
   "outputs": [],
   "source": [
    "# uncomment the line below and run this code cell once\n",
    "#%run '../scripts/data_loader.py'"
   ]
  },
  {
   "cell_type": "code",
   "execution_count": 8,
   "id": "fdb91c6d-3631-4569-a79b-6f028965b911",
   "metadata": {},
   "outputs": [],
   "source": [
    "train = pd.read_csv('../data/train.csv')\n",
    "valid = pd.read_csv('../data/valid.csv')\n",
    "test = pd.read_csv('../data/test.csv')"
   ]
  },
  {
   "cell_type": "markdown",
   "id": "8c6b9f6d-30b3-4537-9065-a61bd9d48b23",
   "metadata": {},
   "source": [
    "# Exploratory Data Analysis"
   ]
  },
  {
   "cell_type": "code",
   "execution_count": 9,
   "id": "6b5db03e-8992-45ba-a8f5-a31fb5f93ab1",
   "metadata": {},
   "outputs": [
    {
     "name": "stdout",
     "output_type": "stream",
     "text": [
      "The shape of the training set is:(134265, 6)\n",
      "The shape of the cross-validation set is:(19181, 6)\n",
      "The shape of the test set is:(38362, 6)\n"
     ]
    }
   ],
   "source": [
    "print(f'The shape of the training set is:{train.shape}')\n",
    "print(f'The shape of the cross-validation set is:{valid.shape}')\n",
    "print(f'The shape of the test set is:{test.shape}')"
   ]
  },
  {
   "cell_type": "code",
   "execution_count": 10,
   "id": "dd64af0b-b5b0-4a5a-b328-5b3d6b6cbec7",
   "metadata": {},
   "outputs": [
    {
     "name": "stdout",
     "output_type": "stream",
     "text": [
      "<class 'pandas.core.frame.DataFrame'>\n",
      "RangeIndex: 134265 entries, 0 to 134264\n",
      "Data columns (total 6 columns):\n",
      " #   Column      Non-Null Count   Dtype \n",
      "---  ------      --------------   ----- \n",
      " 0   Unnamed: 0  134265 non-null  int64 \n",
      " 1   Drug1_ID    134265 non-null  object\n",
      " 2   Drug1       134265 non-null  object\n",
      " 3   Drug2_ID    134265 non-null  object\n",
      " 4   Drug2       134265 non-null  object\n",
      " 5   Y           134265 non-null  int64 \n",
      "dtypes: int64(2), object(4)\n",
      "memory usage: 6.1+ MB\n"
     ]
    }
   ],
   "source": [
    "train.info()"
   ]
  },
  {
   "cell_type": "markdown",
   "id": "536f87d5-c24a-4000-bd59-9d5048d6628b",
   "metadata": {},
   "source": [
    "### train.info() returns information about the train dataset, namely the column names, and their data types\n",
    "From the result above, the first column is the serial number. The dataset will be cleaned and the first column removed"
   ]
  },
  {
   "cell_type": "code",
   "execution_count": 11,
   "id": "ed61eeb4-6e02-460b-be62-850a1825ec91",
   "metadata": {},
   "outputs": [],
   "source": [
    "train = train.drop(train.columns[0], axis=1)"
   ]
  },
  {
   "cell_type": "code",
   "execution_count": 12,
   "id": "0e26cf6c-eb6a-441c-bc4b-b452e50be6f5",
   "metadata": {},
   "outputs": [
    {
     "name": "stdout",
     "output_type": "stream",
     "text": [
      "<class 'pandas.core.frame.DataFrame'>\n",
      "RangeIndex: 134265 entries, 0 to 134264\n",
      "Data columns (total 5 columns):\n",
      " #   Column    Non-Null Count   Dtype \n",
      "---  ------    --------------   ----- \n",
      " 0   Drug1_ID  134265 non-null  object\n",
      " 1   Drug1     134265 non-null  object\n",
      " 2   Drug2_ID  134265 non-null  object\n",
      " 3   Drug2     134265 non-null  object\n",
      " 4   Y         134265 non-null  int64 \n",
      "dtypes: int64(1), object(4)\n",
      "memory usage: 5.1+ MB\n"
     ]
    }
   ],
   "source": [
    "train.info()"
   ]
  },
  {
   "cell_type": "code",
   "execution_count": 13,
   "id": "69f495c5-2e32-4688-a945-8de8ef52d3fc",
   "metadata": {},
   "outputs": [
    {
     "name": "stdout",
     "output_type": "stream",
     "text": [
      "<class 'pandas.core.frame.DataFrame'>\n",
      "RangeIndex: 38362 entries, 0 to 38361\n",
      "Data columns (total 6 columns):\n",
      " #   Column      Non-Null Count  Dtype \n",
      "---  ------      --------------  ----- \n",
      " 0   Unnamed: 0  38362 non-null  int64 \n",
      " 1   Drug1_ID    38362 non-null  object\n",
      " 2   Drug1       38362 non-null  object\n",
      " 3   Drug2_ID    38362 non-null  object\n",
      " 4   Drug2       38362 non-null  object\n",
      " 5   Y           38362 non-null  int64 \n",
      "dtypes: int64(2), object(4)\n",
      "memory usage: 1.8+ MB\n"
     ]
    }
   ],
   "source": [
    "test.info()"
   ]
  },
  {
   "cell_type": "markdown",
   "id": "cbbf1ec8-f160-4384-abc0-d9a6b2ae7827",
   "metadata": {},
   "source": [
    "### test.info() returns information about the train dataset, namely the column names, and their data types\n",
    "From the result above, the first column is the serial number. The dataset will be cleaned and the first column removed"
   ]
  },
  {
   "cell_type": "code",
   "execution_count": 14,
   "id": "ce80a3ff-e076-4407-bd00-ff3823891e05",
   "metadata": {},
   "outputs": [],
   "source": [
    "test = test.drop(test.columns[0], axis=1)"
   ]
  },
  {
   "cell_type": "code",
   "execution_count": 15,
   "id": "62c6663f-1386-40f2-80fe-e71d5b46ccac",
   "metadata": {},
   "outputs": [
    {
     "name": "stdout",
     "output_type": "stream",
     "text": [
      "<class 'pandas.core.frame.DataFrame'>\n",
      "RangeIndex: 38362 entries, 0 to 38361\n",
      "Data columns (total 5 columns):\n",
      " #   Column    Non-Null Count  Dtype \n",
      "---  ------    --------------  ----- \n",
      " 0   Drug1_ID  38362 non-null  object\n",
      " 1   Drug1     38362 non-null  object\n",
      " 2   Drug2_ID  38362 non-null  object\n",
      " 3   Drug2     38362 non-null  object\n",
      " 4   Y         38362 non-null  int64 \n",
      "dtypes: int64(1), object(4)\n",
      "memory usage: 1.5+ MB\n"
     ]
    }
   ],
   "source": [
    "test.info()"
   ]
  },
  {
   "cell_type": "code",
   "execution_count": 16,
   "id": "142240b7-2fe7-4ebe-bb75-9c0d8e5a4bf1",
   "metadata": {},
   "outputs": [
    {
     "name": "stdout",
     "output_type": "stream",
     "text": [
      "<class 'pandas.core.frame.DataFrame'>\n",
      "RangeIndex: 19181 entries, 0 to 19180\n",
      "Data columns (total 6 columns):\n",
      " #   Column      Non-Null Count  Dtype \n",
      "---  ------      --------------  ----- \n",
      " 0   Unnamed: 0  19181 non-null  int64 \n",
      " 1   Drug1_ID    19181 non-null  object\n",
      " 2   Drug1       19181 non-null  object\n",
      " 3   Drug2_ID    19181 non-null  object\n",
      " 4   Drug2       19181 non-null  object\n",
      " 5   Y           19181 non-null  int64 \n",
      "dtypes: int64(2), object(4)\n",
      "memory usage: 899.2+ KB\n"
     ]
    }
   ],
   "source": [
    "valid.info()"
   ]
  },
  {
   "cell_type": "markdown",
   "id": "1b784161-869f-4b15-886d-59f7cfd4912b",
   "metadata": {},
   "source": [
    "### valid.info() returns information about the train dataset, namely the column names, and their data types\n",
    "From the result above, the first column is the serial number. The dataset will be cleaned and the first column removed"
   ]
  },
  {
   "cell_type": "code",
   "execution_count": 17,
   "id": "ed63ffce-cc0c-484d-ac1d-837c13e7a471",
   "metadata": {},
   "outputs": [],
   "source": [
    "valid = valid.drop(valid.columns[0], axis=1)"
   ]
  },
  {
   "cell_type": "code",
   "execution_count": 18,
   "id": "6f2dfc7b-4708-4b43-9578-043d1a7d05cd",
   "metadata": {},
   "outputs": [],
   "source": [
    "train_X = train.iloc[:, :-1]\n",
    "train_y = train.iloc[:, -1]"
   ]
  },
  {
   "cell_type": "code",
   "execution_count": 19,
   "id": "2d29f258-bacb-42ab-a464-0ed7c4a36f3e",
   "metadata": {},
   "outputs": [
    {
     "data": {
      "text/html": [
       "<div>\n",
       "<style scoped>\n",
       "    .dataframe tbody tr th:only-of-type {\n",
       "        vertical-align: middle;\n",
       "    }\n",
       "\n",
       "    .dataframe tbody tr th {\n",
       "        vertical-align: top;\n",
       "    }\n",
       "\n",
       "    .dataframe thead th {\n",
       "        text-align: right;\n",
       "    }\n",
       "</style>\n",
       "<table border=\"1\" class=\"dataframe\">\n",
       "  <thead>\n",
       "    <tr style=\"text-align: right;\">\n",
       "      <th></th>\n",
       "      <th>Drug1_ID</th>\n",
       "      <th>Drug1</th>\n",
       "      <th>Drug2_ID</th>\n",
       "      <th>Drug2</th>\n",
       "    </tr>\n",
       "  </thead>\n",
       "  <tbody>\n",
       "    <tr>\n",
       "      <th>0</th>\n",
       "      <td>DB04571</td>\n",
       "      <td>CC1=CC2=CC3=C(OC(=O)C=C3C)C(C)=C2O1</td>\n",
       "      <td>DB00460</td>\n",
       "      <td>COC(=O)CCC1=C2NC(\\C=C3/N=C(/C=C4\\N\\C(=C/C5=N/C...</td>\n",
       "    </tr>\n",
       "    <tr>\n",
       "      <th>1</th>\n",
       "      <td>DB09536</td>\n",
       "      <td>O=[Ti]=O</td>\n",
       "      <td>DB00460</td>\n",
       "      <td>COC(=O)CCC1=C2NC(\\C=C3/N=C(/C=C4\\N\\C(=C/C5=N/C...</td>\n",
       "    </tr>\n",
       "    <tr>\n",
       "      <th>2</th>\n",
       "      <td>DB01600</td>\n",
       "      <td>CC(C(O)=O)C1=CC=C(S1)C(=O)C1=CC=CC=C1</td>\n",
       "      <td>DB00460</td>\n",
       "      <td>COC(=O)CCC1=C2NC(\\C=C3/N=C(/C=C4\\N\\C(=C/C5=N/C...</td>\n",
       "    </tr>\n",
       "    <tr>\n",
       "      <th>3</th>\n",
       "      <td>DB09000</td>\n",
       "      <td>CC(CN(C)C)CN1C2=CC=CC=C2SC2=C1C=C(C=C2)C#N</td>\n",
       "      <td>DB00460</td>\n",
       "      <td>COC(=O)CCC1=C2NC(\\C=C3/N=C(/C=C4\\N\\C(=C/C5=N/C...</td>\n",
       "    </tr>\n",
       "    <tr>\n",
       "      <th>4</th>\n",
       "      <td>DB11630</td>\n",
       "      <td>OC1=CC=CC(=C1)C-1=C2\\CCC(=N2)\\C(=C2/N\\C(\\C=C2)...</td>\n",
       "      <td>DB00460</td>\n",
       "      <td>COC(=O)CCC1=C2NC(\\C=C3/N=C(/C=C4\\N\\C(=C/C5=N/C...</td>\n",
       "    </tr>\n",
       "  </tbody>\n",
       "</table>\n",
       "</div>"
      ],
      "text/plain": [
       "  Drug1_ID                                              Drug1 Drug2_ID  \\\n",
       "0  DB04571                CC1=CC2=CC3=C(OC(=O)C=C3C)C(C)=C2O1  DB00460   \n",
       "1  DB09536                                           O=[Ti]=O  DB00460   \n",
       "2  DB01600              CC(C(O)=O)C1=CC=C(S1)C(=O)C1=CC=CC=C1  DB00460   \n",
       "3  DB09000         CC(CN(C)C)CN1C2=CC=CC=C2SC2=C1C=C(C=C2)C#N  DB00460   \n",
       "4  DB11630  OC1=CC=CC(=C1)C-1=C2\\CCC(=N2)\\C(=C2/N\\C(\\C=C2)...  DB00460   \n",
       "\n",
       "                                               Drug2  \n",
       "0  COC(=O)CCC1=C2NC(\\C=C3/N=C(/C=C4\\N\\C(=C/C5=N/C...  \n",
       "1  COC(=O)CCC1=C2NC(\\C=C3/N=C(/C=C4\\N\\C(=C/C5=N/C...  \n",
       "2  COC(=O)CCC1=C2NC(\\C=C3/N=C(/C=C4\\N\\C(=C/C5=N/C...  \n",
       "3  COC(=O)CCC1=C2NC(\\C=C3/N=C(/C=C4\\N\\C(=C/C5=N/C...  \n",
       "4  COC(=O)CCC1=C2NC(\\C=C3/N=C(/C=C4\\N\\C(=C/C5=N/C...  "
      ]
     },
     "execution_count": 19,
     "metadata": {},
     "output_type": "execute_result"
    }
   ],
   "source": [
    "train_X.head()\n"
   ]
  },
  {
   "cell_type": "code",
   "execution_count": 20,
   "id": "6924245f-ac3b-4597-a52c-10f900b0c942",
   "metadata": {},
   "outputs": [
    {
     "data": {
      "text/plain": [
       "0    1\n",
       "1    1\n",
       "2    1\n",
       "3    1\n",
       "4    1\n",
       "Name: Y, dtype: int64"
      ]
     },
     "execution_count": 20,
     "metadata": {},
     "output_type": "execute_result"
    }
   ],
   "source": [
    "train_y.head()"
   ]
  },
  {
   "cell_type": "code",
   "execution_count": 21,
   "id": "1099dec9-f464-4234-bc28-9c9eabe1d6a3",
   "metadata": {},
   "outputs": [
    {
     "data": {
      "text/plain": [
       "Y\n",
       "49    42592\n",
       "47    24102\n",
       "73    16509\n",
       "75     6539\n",
       "60     5945\n",
       "      ...  \n",
       "43        7\n",
       "41        7\n",
       "26        6\n",
       "62        4\n",
       "42        3\n",
       "Name: count, Length: 86, dtype: int64"
      ]
     },
     "execution_count": 21,
     "metadata": {},
     "output_type": "execute_result"
    }
   ],
   "source": [
    "train_y.value_counts()"
   ]
  },
  {
   "cell_type": "code",
   "execution_count": 22,
   "id": "368fc7ef-73c4-4a59-ae7d-02ae362907ee",
   "metadata": {},
   "outputs": [
    {
     "data": {
      "text/plain": [
       "array([ 1,  2,  3,  4,  5,  6,  7,  8,  9, 10, 11, 12, 13, 14, 15, 16, 17,\n",
       "       18, 19, 20, 21, 22, 23, 24, 25, 26, 27, 28, 29, 30, 31, 32, 33, 34,\n",
       "       35, 36, 37, 38, 39, 40, 41, 42, 43, 44, 45, 46, 47, 48, 49, 50, 51,\n",
       "       52, 53, 54, 55, 56, 57, 58, 59, 60, 61, 62, 63, 64, 65, 66, 67, 68,\n",
       "       69, 70, 71, 72, 73, 74, 75, 76, 77, 78, 79, 80, 81, 82, 83, 84, 85,\n",
       "       86])"
      ]
     },
     "execution_count": 22,
     "metadata": {},
     "output_type": "execute_result"
    }
   ],
   "source": [
    "train_y.unique()"
   ]
  },
  {
   "cell_type": "markdown",
   "id": "b005b39c-4535-426f-8f62-2e643cd93c26",
   "metadata": {},
   "source": [
    "### To know what type of relation the label index corresponds to,run the cell below"
   ]
  },
  {
   "cell_type": "code",
   "execution_count": 25,
   "id": "420dfb73-f1a6-456e-bd06-76cab69672e4",
   "metadata": {},
   "outputs": [],
   "source": [
    "from tdc.utils import get_label_map\n"
   ]
  },
  {
   "cell_type": "code",
   "execution_count": null,
   "id": "83248e4c-e69a-4e54-9125-345a592e16ae",
   "metadata": {},
   "outputs": [],
   "source": [
    "get_label_map(name = 'DrugBank', task = 'DDI')"
   ]
  },
  {
   "cell_type": "markdown",
   "id": "f64a9a19-0dca-4286-9fb3-f374d729cbe4",
   "metadata": {},
   "source": [
    "# Featurisation"
   ]
  },
  {
   "cell_type": "code",
   "execution_count": 27,
   "id": "3d5b84af-04d7-4538-a372-4953deba4599",
   "metadata": {},
   "outputs": [
    {
     "name": "stdout",
     "output_type": "stream",
     "text": [
      "Fetching model eos4wt0...\n",
      "Model fetched successfully\n",
      "🚀 Serving model eos4wt0: morgan-fps\n",
      "\n",
      "   URL: http://0.0.0.0:52469\n",
      "   PID: -1\n",
      "   SRV: pulled_docker\n",
      "   Output source: local-only\n",
      "\n",
      "👉 To run model:\n",
      "   - run\n",
      "\n",
      "💁 Information:\n",
      "   - info\n",
      "Ersilia model server is running\n",
      "Processing ../data/train.csv...\n",
      "Featurizing Drug1 from ../data/train.csv...\n",
      "Successfully featurized Drug1 in ../data/train.csv\n",
      "Featurizing Drug2 from ../data/train.csv...\n",
      "Successfully featurized Drug2 in ../data/train.csv\n",
      "Featurized data saved to ../data/featurised_train.csv\n",
      "Deleted temporary file: ../data/train_drug1.csv\n",
      "Deleted temporary file: ../data/train_drug1_feat.csv\n",
      "Deleted temporary file: ../data/train_drug2.csv\n",
      "Deleted temporary file: ../data/train_drug2_feat.csv\n",
      "Processing ../data/valid.csv...\n",
      "Featurizing Drug1 from ../data/valid.csv...\n",
      "Successfully featurized Drug1 in ../data/valid.csv\n",
      "Featurizing Drug2 from ../data/valid.csv...\n",
      "Successfully featurized Drug2 in ../data/valid.csv\n",
      "Featurized data saved to ../data/featurised_valid.csv\n",
      "Deleted temporary file: ../data/valid_drug1.csv\n",
      "Deleted temporary file: ../data/valid_drug1_feat.csv\n",
      "Deleted temporary file: ../data/valid_drug2.csv\n",
      "Deleted temporary file: ../data/valid_drug2_feat.csv\n",
      "Processing ../data/test.csv...\n",
      "Featurizing Drug1 from ../data/test.csv...\n",
      "Successfully featurized Drug1 in ../data/test.csv\n",
      "Featurizing Drug2 from ../data/test.csv...\n",
      "Successfully featurized Drug2 in ../data/test.csv\n",
      "Featurized data saved to ../data/featurised_test.csv\n",
      "Deleted temporary file: ../data/test_drug1.csv\n",
      "Deleted temporary file: ../data/test_drug1_feat.csv\n",
      "Deleted temporary file: ../data/test_drug2.csv\n",
      "Deleted temporary file: ../data/test_drug2_feat.csv\n",
      "Ersilia server stopped.\n"
     ]
    }
   ],
   "source": [
    "%run '../scripts/featuriser.py'"
   ]
  },
  {
   "cell_type": "code",
   "execution_count": null,
   "id": "f8f43dcb-2254-433e-a551-195d38257075",
   "metadata": {},
   "outputs": [],
   "source": []
  }
 ],
 "metadata": {
  "kernelspec": {
   "display_name": "Python 3 (ipykernel)",
   "language": "python",
   "name": "python3"
  },
  "language_info": {
   "codemirror_mode": {
    "name": "ipython",
    "version": 3
   },
   "file_extension": ".py",
   "mimetype": "text/x-python",
   "name": "python",
   "nbconvert_exporter": "python",
   "pygments_lexer": "ipython3",
   "version": "3.12.2"
  }
 },
 "nbformat": 4,
 "nbformat_minor": 5
}
