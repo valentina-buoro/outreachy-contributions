{
 "cells": [
  {
   "cell_type": "markdown",
   "id": "3f506804-521a-42ad-8cc4-d4064bd97e24",
   "metadata": {},
   "source": [
    "# Installation"
   ]
  },
  {
   "cell_type": "code",
   "execution_count": 5,
   "id": "53d32830-3d2e-411e-a414-697b44f32cde",
   "metadata": {},
   "outputs": [],
   "source": [
    "# uncomment the line below and run this code cell once\n",
    "# %run '../scripts/package_install.py'"
   ]
  },
  {
   "cell_type": "code",
   "execution_count": 71,
   "id": "296b1af5-7a7c-4aa6-8da1-fedda230bf6f",
   "metadata": {},
   "outputs": [],
   "source": [
    "import pandas as pd \n",
    "import numpy as np \n",
    "from sklearn.preprocessing import OneHotEncoder\n",
    "from collections import Counter\n",
    "import seaborn as sns\n",
    "import matplotlib.pyplot as plt\n"
   ]
  },
  {
   "cell_type": "markdown",
   "id": "a9b8c4dd-902d-44a9-9498-61fa9f1d0b1d",
   "metadata": {},
   "source": [
    "# Loading Dataset From TDC package"
   ]
  },
  {
   "cell_type": "code",
   "execution_count": 7,
   "id": "59e10d4d-baef-4eec-9634-1e7d8fc001fc",
   "metadata": {},
   "outputs": [],
   "source": [
    "# uncomment the line below and run this code cell once\n",
    "#%run '../scripts/data_loader.py'"
   ]
  },
  {
   "cell_type": "code",
   "execution_count": 8,
   "id": "fdb91c6d-3631-4569-a79b-6f028965b911",
   "metadata": {},
   "outputs": [],
   "source": [
    "train = pd.read_csv('../data/train.csv')\n",
    "valid = pd.read_csv('../data/valid.csv')\n",
    "test = pd.read_csv('../data/test.csv')"
   ]
  },
  {
   "cell_type": "markdown",
   "id": "8c6b9f6d-30b3-4537-9065-a61bd9d48b23",
   "metadata": {},
   "source": [
    "# Exploratory Data Analysis"
   ]
  },
  {
   "cell_type": "code",
   "execution_count": 9,
   "id": "6b5db03e-8992-45ba-a8f5-a31fb5f93ab1",
   "metadata": {},
   "outputs": [
    {
     "name": "stdout",
     "output_type": "stream",
     "text": [
      "The shape of the training set is:(134265, 6)\n",
      "The shape of the cross-validation set is:(19181, 6)\n",
      "The shape of the test set is:(38362, 6)\n"
     ]
    }
   ],
   "source": [
    "print(f'The shape of the training set is:{train.shape}')\n",
    "print(f'The shape of the cross-validation set is:{valid.shape}')\n",
    "print(f'The shape of the test set is:{test.shape}')"
   ]
  },
  {
   "cell_type": "code",
   "execution_count": 10,
   "id": "dd64af0b-b5b0-4a5a-b328-5b3d6b6cbec7",
   "metadata": {},
   "outputs": [
    {
     "name": "stdout",
     "output_type": "stream",
     "text": [
      "<class 'pandas.core.frame.DataFrame'>\n",
      "RangeIndex: 134265 entries, 0 to 134264\n",
      "Data columns (total 6 columns):\n",
      " #   Column      Non-Null Count   Dtype \n",
      "---  ------      --------------   ----- \n",
      " 0   Unnamed: 0  134265 non-null  int64 \n",
      " 1   Drug1_ID    134265 non-null  object\n",
      " 2   Drug1       134265 non-null  object\n",
      " 3   Drug2_ID    134265 non-null  object\n",
      " 4   Drug2       134265 non-null  object\n",
      " 5   Y           134265 non-null  int64 \n",
      "dtypes: int64(2), object(4)\n",
      "memory usage: 6.1+ MB\n"
     ]
    }
   ],
   "source": [
    "train.info()"
   ]
  },
  {
   "cell_type": "markdown",
   "id": "536f87d5-c24a-4000-bd59-9d5048d6628b",
   "metadata": {},
   "source": [
    "### train.info() returns information about the train dataset, namely the column names, and their data types\n",
    "From the result above, the first column is the serial number. The dataset will be cleaned and the first column removed"
   ]
  },
  {
   "cell_type": "code",
   "execution_count": 11,
   "id": "ed61eeb4-6e02-460b-be62-850a1825ec91",
   "metadata": {},
   "outputs": [],
   "source": [
    "train = train.drop(train.columns[0], axis=1)"
   ]
  },
  {
   "cell_type": "code",
   "execution_count": 12,
   "id": "0e26cf6c-eb6a-441c-bc4b-b452e50be6f5",
   "metadata": {},
   "outputs": [
    {
     "name": "stdout",
     "output_type": "stream",
     "text": [
      "<class 'pandas.core.frame.DataFrame'>\n",
      "RangeIndex: 134265 entries, 0 to 134264\n",
      "Data columns (total 5 columns):\n",
      " #   Column    Non-Null Count   Dtype \n",
      "---  ------    --------------   ----- \n",
      " 0   Drug1_ID  134265 non-null  object\n",
      " 1   Drug1     134265 non-null  object\n",
      " 2   Drug2_ID  134265 non-null  object\n",
      " 3   Drug2     134265 non-null  object\n",
      " 4   Y         134265 non-null  int64 \n",
      "dtypes: int64(1), object(4)\n",
      "memory usage: 5.1+ MB\n"
     ]
    }
   ],
   "source": [
    "train.info()"
   ]
  },
  {
   "cell_type": "code",
   "execution_count": 39,
   "id": "f616a703-65c7-4b25-8e6e-9034957bd3c2",
   "metadata": {},
   "outputs": [
    {
     "data": {
      "text/html": [
       "<div>\n",
       "<style scoped>\n",
       "    .dataframe tbody tr th:only-of-type {\n",
       "        vertical-align: middle;\n",
       "    }\n",
       "\n",
       "    .dataframe tbody tr th {\n",
       "        vertical-align: top;\n",
       "    }\n",
       "\n",
       "    .dataframe thead th {\n",
       "        text-align: right;\n",
       "    }\n",
       "</style>\n",
       "<table border=\"1\" class=\"dataframe\">\n",
       "  <thead>\n",
       "    <tr style=\"text-align: right;\">\n",
       "      <th></th>\n",
       "      <th>Drug1_ID</th>\n",
       "      <th>Drug1</th>\n",
       "      <th>Drug2_ID</th>\n",
       "      <th>Drug2</th>\n",
       "      <th>Y</th>\n",
       "    </tr>\n",
       "  </thead>\n",
       "  <tbody>\n",
       "    <tr>\n",
       "      <th>0</th>\n",
       "      <td>DB04571</td>\n",
       "      <td>CC1=CC2=CC3=C(OC(=O)C=C3C)C(C)=C2O1</td>\n",
       "      <td>DB00460</td>\n",
       "      <td>COC(=O)CCC1=C2NC(\\C=C3/N=C(/C=C4\\N\\C(=C/C5=N/C...</td>\n",
       "      <td>1</td>\n",
       "    </tr>\n",
       "    <tr>\n",
       "      <th>1</th>\n",
       "      <td>DB09536</td>\n",
       "      <td>O=[Ti]=O</td>\n",
       "      <td>DB00460</td>\n",
       "      <td>COC(=O)CCC1=C2NC(\\C=C3/N=C(/C=C4\\N\\C(=C/C5=N/C...</td>\n",
       "      <td>1</td>\n",
       "    </tr>\n",
       "    <tr>\n",
       "      <th>2</th>\n",
       "      <td>DB01600</td>\n",
       "      <td>CC(C(O)=O)C1=CC=C(S1)C(=O)C1=CC=CC=C1</td>\n",
       "      <td>DB00460</td>\n",
       "      <td>COC(=O)CCC1=C2NC(\\C=C3/N=C(/C=C4\\N\\C(=C/C5=N/C...</td>\n",
       "      <td>1</td>\n",
       "    </tr>\n",
       "    <tr>\n",
       "      <th>3</th>\n",
       "      <td>DB09000</td>\n",
       "      <td>CC(CN(C)C)CN1C2=CC=CC=C2SC2=C1C=C(C=C2)C#N</td>\n",
       "      <td>DB00460</td>\n",
       "      <td>COC(=O)CCC1=C2NC(\\C=C3/N=C(/C=C4\\N\\C(=C/C5=N/C...</td>\n",
       "      <td>1</td>\n",
       "    </tr>\n",
       "    <tr>\n",
       "      <th>4</th>\n",
       "      <td>DB11630</td>\n",
       "      <td>OC1=CC=CC(=C1)C-1=C2\\CCC(=N2)\\C(=C2/N\\C(\\C=C2)...</td>\n",
       "      <td>DB00460</td>\n",
       "      <td>COC(=O)CCC1=C2NC(\\C=C3/N=C(/C=C4\\N\\C(=C/C5=N/C...</td>\n",
       "      <td>1</td>\n",
       "    </tr>\n",
       "  </tbody>\n",
       "</table>\n",
       "</div>"
      ],
      "text/plain": [
       "  Drug1_ID                                              Drug1 Drug2_ID  \\\n",
       "0  DB04571                CC1=CC2=CC3=C(OC(=O)C=C3C)C(C)=C2O1  DB00460   \n",
       "1  DB09536                                           O=[Ti]=O  DB00460   \n",
       "2  DB01600              CC(C(O)=O)C1=CC=C(S1)C(=O)C1=CC=CC=C1  DB00460   \n",
       "3  DB09000         CC(CN(C)C)CN1C2=CC=CC=C2SC2=C1C=C(C=C2)C#N  DB00460   \n",
       "4  DB11630  OC1=CC=CC(=C1)C-1=C2\\CCC(=N2)\\C(=C2/N\\C(\\C=C2)...  DB00460   \n",
       "\n",
       "                                               Drug2  Y  \n",
       "0  COC(=O)CCC1=C2NC(\\C=C3/N=C(/C=C4\\N\\C(=C/C5=N/C...  1  \n",
       "1  COC(=O)CCC1=C2NC(\\C=C3/N=C(/C=C4\\N\\C(=C/C5=N/C...  1  \n",
       "2  COC(=O)CCC1=C2NC(\\C=C3/N=C(/C=C4\\N\\C(=C/C5=N/C...  1  \n",
       "3  COC(=O)CCC1=C2NC(\\C=C3/N=C(/C=C4\\N\\C(=C/C5=N/C...  1  \n",
       "4  COC(=O)CCC1=C2NC(\\C=C3/N=C(/C=C4\\N\\C(=C/C5=N/C...  1  "
      ]
     },
     "execution_count": 39,
     "metadata": {},
     "output_type": "execute_result"
    }
   ],
   "source": [
    "train.head()"
   ]
  },
  {
   "cell_type": "code",
   "execution_count": 13,
   "id": "69f495c5-2e32-4688-a945-8de8ef52d3fc",
   "metadata": {},
   "outputs": [
    {
     "name": "stdout",
     "output_type": "stream",
     "text": [
      "<class 'pandas.core.frame.DataFrame'>\n",
      "RangeIndex: 38362 entries, 0 to 38361\n",
      "Data columns (total 6 columns):\n",
      " #   Column      Non-Null Count  Dtype \n",
      "---  ------      --------------  ----- \n",
      " 0   Unnamed: 0  38362 non-null  int64 \n",
      " 1   Drug1_ID    38362 non-null  object\n",
      " 2   Drug1       38362 non-null  object\n",
      " 3   Drug2_ID    38362 non-null  object\n",
      " 4   Drug2       38362 non-null  object\n",
      " 5   Y           38362 non-null  int64 \n",
      "dtypes: int64(2), object(4)\n",
      "memory usage: 1.8+ MB\n"
     ]
    }
   ],
   "source": [
    "test.info()"
   ]
  },
  {
   "cell_type": "markdown",
   "id": "cbbf1ec8-f160-4384-abc0-d9a6b2ae7827",
   "metadata": {},
   "source": [
    "### test.info() returns information about the train dataset, namely the column names, and their data types\n",
    "From the result above, the first column is the serial number. The dataset will be cleaned and the first column removed"
   ]
  },
  {
   "cell_type": "code",
   "execution_count": 14,
   "id": "ce80a3ff-e076-4407-bd00-ff3823891e05",
   "metadata": {},
   "outputs": [],
   "source": [
    "test = test.drop(test.columns[0], axis=1)"
   ]
  },
  {
   "cell_type": "code",
   "execution_count": 15,
   "id": "62c6663f-1386-40f2-80fe-e71d5b46ccac",
   "metadata": {},
   "outputs": [
    {
     "name": "stdout",
     "output_type": "stream",
     "text": [
      "<class 'pandas.core.frame.DataFrame'>\n",
      "RangeIndex: 38362 entries, 0 to 38361\n",
      "Data columns (total 5 columns):\n",
      " #   Column    Non-Null Count  Dtype \n",
      "---  ------    --------------  ----- \n",
      " 0   Drug1_ID  38362 non-null  object\n",
      " 1   Drug1     38362 non-null  object\n",
      " 2   Drug2_ID  38362 non-null  object\n",
      " 3   Drug2     38362 non-null  object\n",
      " 4   Y         38362 non-null  int64 \n",
      "dtypes: int64(1), object(4)\n",
      "memory usage: 1.5+ MB\n"
     ]
    }
   ],
   "source": [
    "test.info()"
   ]
  },
  {
   "cell_type": "code",
   "execution_count": 40,
   "id": "341575db-5a82-4637-b8e6-7164a927ca17",
   "metadata": {},
   "outputs": [
    {
     "data": {
      "text/html": [
       "<div>\n",
       "<style scoped>\n",
       "    .dataframe tbody tr th:only-of-type {\n",
       "        vertical-align: middle;\n",
       "    }\n",
       "\n",
       "    .dataframe tbody tr th {\n",
       "        vertical-align: top;\n",
       "    }\n",
       "\n",
       "    .dataframe thead th {\n",
       "        text-align: right;\n",
       "    }\n",
       "</style>\n",
       "<table border=\"1\" class=\"dataframe\">\n",
       "  <thead>\n",
       "    <tr style=\"text-align: right;\">\n",
       "      <th></th>\n",
       "      <th>Drug1_ID</th>\n",
       "      <th>Drug1</th>\n",
       "      <th>Drug2_ID</th>\n",
       "      <th>Drug2</th>\n",
       "      <th>Y</th>\n",
       "    </tr>\n",
       "  </thead>\n",
       "  <tbody>\n",
       "    <tr>\n",
       "      <th>0</th>\n",
       "      <td>DB00503</td>\n",
       "      <td>CC(C)[C@H](NC(=O)N(C)CC1=CSC(=N1)C(C)C)C(=O)N[...</td>\n",
       "      <td>DB00169</td>\n",
       "      <td>CC(C)CCC[C@@H](C)[C@@]1([H])CC[C@@]2([H])\\C(CC...</td>\n",
       "      <td>47</td>\n",
       "    </tr>\n",
       "    <tr>\n",
       "      <th>1</th>\n",
       "      <td>DB04930</td>\n",
       "      <td>CC1(C)C(C=C(Cl)Cl)C1C(=O)OCC1=CC(OC2=CC=CC=C2)...</td>\n",
       "      <td>DB01589</td>\n",
       "      <td>FC1=CC=CC=C1C1=NCC(=S)N(CC(F)(F)F)C2=C1C=C(Cl)...</td>\n",
       "      <td>73</td>\n",
       "    </tr>\n",
       "    <tr>\n",
       "      <th>2</th>\n",
       "      <td>DB00753</td>\n",
       "      <td>FC(F)OC(Cl)C(F)(F)F</td>\n",
       "      <td>DB00285</td>\n",
       "      <td>COC1=CC=C(C=C1)C(CN(C)C)C1(O)CCCCC1</td>\n",
       "      <td>47</td>\n",
       "    </tr>\n",
       "    <tr>\n",
       "      <th>3</th>\n",
       "      <td>DB01210</td>\n",
       "      <td>CC(C)(C)NC[C@H](O)COC1=CC=CC2=C1CCCC2=O</td>\n",
       "      <td>DB04896</td>\n",
       "      <td>CCN(CC)C(=O)C1(CC1CN)C1=CC=CC=C1</td>\n",
       "      <td>73</td>\n",
       "    </tr>\n",
       "    <tr>\n",
       "      <th>4</th>\n",
       "      <td>DB00328</td>\n",
       "      <td>COC1=CC2=C(C=C1)N(C(=O)C1=CC=C(Cl)C=C1)C(C)=C2...</td>\n",
       "      <td>DB12332</td>\n",
       "      <td>CNCC1=CC=C(C=C1)C1=C2CCNC(=O)C3=C2C(N1)=CC(F)=C3</td>\n",
       "      <td>47</td>\n",
       "    </tr>\n",
       "  </tbody>\n",
       "</table>\n",
       "</div>"
      ],
      "text/plain": [
       "  Drug1_ID                                              Drug1 Drug2_ID  \\\n",
       "0  DB00503  CC(C)[C@H](NC(=O)N(C)CC1=CSC(=N1)C(C)C)C(=O)N[...  DB00169   \n",
       "1  DB04930  CC1(C)C(C=C(Cl)Cl)C1C(=O)OCC1=CC(OC2=CC=CC=C2)...  DB01589   \n",
       "2  DB00753                                FC(F)OC(Cl)C(F)(F)F  DB00285   \n",
       "3  DB01210            CC(C)(C)NC[C@H](O)COC1=CC=CC2=C1CCCC2=O  DB04896   \n",
       "4  DB00328  COC1=CC2=C(C=C1)N(C(=O)C1=CC=C(Cl)C=C1)C(C)=C2...  DB12332   \n",
       "\n",
       "                                               Drug2   Y  \n",
       "0  CC(C)CCC[C@@H](C)[C@@]1([H])CC[C@@]2([H])\\C(CC...  47  \n",
       "1  FC1=CC=CC=C1C1=NCC(=S)N(CC(F)(F)F)C2=C1C=C(Cl)...  73  \n",
       "2                COC1=CC=C(C=C1)C(CN(C)C)C1(O)CCCCC1  47  \n",
       "3                   CCN(CC)C(=O)C1(CC1CN)C1=CC=CC=C1  73  \n",
       "4   CNCC1=CC=C(C=C1)C1=C2CCNC(=O)C3=C2C(N1)=CC(F)=C3  47  "
      ]
     },
     "execution_count": 40,
     "metadata": {},
     "output_type": "execute_result"
    }
   ],
   "source": [
    "test.head()"
   ]
  },
  {
   "cell_type": "code",
   "execution_count": 16,
   "id": "142240b7-2fe7-4ebe-bb75-9c0d8e5a4bf1",
   "metadata": {},
   "outputs": [
    {
     "name": "stdout",
     "output_type": "stream",
     "text": [
      "<class 'pandas.core.frame.DataFrame'>\n",
      "RangeIndex: 19181 entries, 0 to 19180\n",
      "Data columns (total 6 columns):\n",
      " #   Column      Non-Null Count  Dtype \n",
      "---  ------      --------------  ----- \n",
      " 0   Unnamed: 0  19181 non-null  int64 \n",
      " 1   Drug1_ID    19181 non-null  object\n",
      " 2   Drug1       19181 non-null  object\n",
      " 3   Drug2_ID    19181 non-null  object\n",
      " 4   Drug2       19181 non-null  object\n",
      " 5   Y           19181 non-null  int64 \n",
      "dtypes: int64(2), object(4)\n",
      "memory usage: 899.2+ KB\n"
     ]
    }
   ],
   "source": [
    "valid.info()"
   ]
  },
  {
   "cell_type": "markdown",
   "id": "1b784161-869f-4b15-886d-59f7cfd4912b",
   "metadata": {},
   "source": [
    "### valid.info() returns information about the train dataset, namely the column names, and their data types\n",
    "From the result above, the first column is the serial number. The dataset will be cleaned and the first column removed"
   ]
  },
  {
   "cell_type": "code",
   "execution_count": 17,
   "id": "ed63ffce-cc0c-484d-ac1d-837c13e7a471",
   "metadata": {},
   "outputs": [],
   "source": [
    "valid = valid.drop(valid.columns[0], axis=1)"
   ]
  },
  {
   "cell_type": "code",
   "execution_count": 41,
   "id": "bf889e67-500d-4af8-becf-e063ee798b8c",
   "metadata": {},
   "outputs": [
    {
     "name": "stdout",
     "output_type": "stream",
     "text": [
      "<class 'pandas.core.frame.DataFrame'>\n",
      "RangeIndex: 19181 entries, 0 to 19180\n",
      "Data columns (total 5 columns):\n",
      " #   Column    Non-Null Count  Dtype \n",
      "---  ------    --------------  ----- \n",
      " 0   Drug1_ID  19181 non-null  object\n",
      " 1   Drug1     19181 non-null  object\n",
      " 2   Drug2_ID  19181 non-null  object\n",
      " 3   Drug2     19181 non-null  object\n",
      " 4   Y         19181 non-null  int64 \n",
      "dtypes: int64(1), object(4)\n",
      "memory usage: 749.4+ KB\n"
     ]
    }
   ],
   "source": [
    "valid.info()"
   ]
  },
  {
   "cell_type": "code",
   "execution_count": 42,
   "id": "077d3e57-0189-4358-961a-ae14d2ea2d91",
   "metadata": {},
   "outputs": [
    {
     "data": {
      "text/html": [
       "<div>\n",
       "<style scoped>\n",
       "    .dataframe tbody tr th:only-of-type {\n",
       "        vertical-align: middle;\n",
       "    }\n",
       "\n",
       "    .dataframe tbody tr th {\n",
       "        vertical-align: top;\n",
       "    }\n",
       "\n",
       "    .dataframe thead th {\n",
       "        text-align: right;\n",
       "    }\n",
       "</style>\n",
       "<table border=\"1\" class=\"dataframe\">\n",
       "  <thead>\n",
       "    <tr style=\"text-align: right;\">\n",
       "      <th></th>\n",
       "      <th>Drug1_ID</th>\n",
       "      <th>Drug1</th>\n",
       "      <th>Drug2_ID</th>\n",
       "      <th>Drug2</th>\n",
       "      <th>Y</th>\n",
       "    </tr>\n",
       "  </thead>\n",
       "  <tbody>\n",
       "    <tr>\n",
       "      <th>0</th>\n",
       "      <td>DB01159</td>\n",
       "      <td>[H]C(Cl)(Br)C(F)(F)F</td>\n",
       "      <td>DB00951</td>\n",
       "      <td>NNC(=O)C1=CC=NC=C1</td>\n",
       "      <td>47</td>\n",
       "    </tr>\n",
       "    <tr>\n",
       "      <th>1</th>\n",
       "      <td>DB09295</td>\n",
       "      <td>FC(F)(F)C1=CC(NC2=C(C=CC=N2)C(=O)OC2OC(=O)C3=C...</td>\n",
       "      <td>DB00821</td>\n",
       "      <td>CC(C(O)=O)C1=CC2=C(C=C1)C1=C(N2)C=CC(Cl)=C1</td>\n",
       "      <td>49</td>\n",
       "    </tr>\n",
       "    <tr>\n",
       "      <th>2</th>\n",
       "      <td>DB01324</td>\n",
       "      <td>CN1C(CSCC(F)(F)F)NC2=CC(Cl)=C(C=C2S1(=O)=O)S(N...</td>\n",
       "      <td>DB01409</td>\n",
       "      <td>[H][C@]12O[C@@]1([H])[C@]1([H])C[C@@]([H])(C[C...</td>\n",
       "      <td>73</td>\n",
       "    </tr>\n",
       "    <tr>\n",
       "      <th>3</th>\n",
       "      <td>DB01400</td>\n",
       "      <td>CN(C)C(=O)OC1=CC(=CC=C1)[N+](C)(C)C</td>\n",
       "      <td>DB00376</td>\n",
       "      <td>OC(CCN1CCCCC1)(C1CCCCC1)C1=CC=CC=C1</td>\n",
       "      <td>70</td>\n",
       "    </tr>\n",
       "    <tr>\n",
       "      <th>4</th>\n",
       "      <td>DB06697</td>\n",
       "      <td>[H][C@@]12CC[C@@H](C)[C@]3([H])CC[C@@]4(C)OO[C...</td>\n",
       "      <td>DB09118</td>\n",
       "      <td>CC(C)(C)C(O)\\C=C\\C1=CC2=C(OCO2)C=C1</td>\n",
       "      <td>73</td>\n",
       "    </tr>\n",
       "  </tbody>\n",
       "</table>\n",
       "</div>"
      ],
      "text/plain": [
       "  Drug1_ID                                              Drug1 Drug2_ID  \\\n",
       "0  DB01159                               [H]C(Cl)(Br)C(F)(F)F  DB00951   \n",
       "1  DB09295  FC(F)(F)C1=CC(NC2=C(C=CC=N2)C(=O)OC2OC(=O)C3=C...  DB00821   \n",
       "2  DB01324  CN1C(CSCC(F)(F)F)NC2=CC(Cl)=C(C=C2S1(=O)=O)S(N...  DB01409   \n",
       "3  DB01400                CN(C)C(=O)OC1=CC(=CC=C1)[N+](C)(C)C  DB00376   \n",
       "4  DB06697  [H][C@@]12CC[C@@H](C)[C@]3([H])CC[C@@]4(C)OO[C...  DB09118   \n",
       "\n",
       "                                               Drug2   Y  \n",
       "0                                 NNC(=O)C1=CC=NC=C1  47  \n",
       "1        CC(C(O)=O)C1=CC2=C(C=C1)C1=C(N2)C=CC(Cl)=C1  49  \n",
       "2  [H][C@]12O[C@@]1([H])[C@]1([H])C[C@@]([H])(C[C...  73  \n",
       "3                OC(CCN1CCCCC1)(C1CCCCC1)C1=CC=CC=C1  70  \n",
       "4                CC(C)(C)C(O)\\C=C\\C1=CC2=C(OCO2)C=C1  73  "
      ]
     },
     "execution_count": 42,
     "metadata": {},
     "output_type": "execute_result"
    }
   ],
   "source": [
    "valid.head()"
   ]
  },
  {
   "cell_type": "code",
   "execution_count": 18,
   "id": "6f2dfc7b-4708-4b43-9578-043d1a7d05cd",
   "metadata": {},
   "outputs": [],
   "source": [
    "train_X = train.iloc[:, :-1]\n",
    "train_y = train.iloc[:, -1]"
   ]
  },
  {
   "cell_type": "code",
   "execution_count": 19,
   "id": "2d29f258-bacb-42ab-a464-0ed7c4a36f3e",
   "metadata": {},
   "outputs": [
    {
     "data": {
      "text/html": [
       "<div>\n",
       "<style scoped>\n",
       "    .dataframe tbody tr th:only-of-type {\n",
       "        vertical-align: middle;\n",
       "    }\n",
       "\n",
       "    .dataframe tbody tr th {\n",
       "        vertical-align: top;\n",
       "    }\n",
       "\n",
       "    .dataframe thead th {\n",
       "        text-align: right;\n",
       "    }\n",
       "</style>\n",
       "<table border=\"1\" class=\"dataframe\">\n",
       "  <thead>\n",
       "    <tr style=\"text-align: right;\">\n",
       "      <th></th>\n",
       "      <th>Drug1_ID</th>\n",
       "      <th>Drug1</th>\n",
       "      <th>Drug2_ID</th>\n",
       "      <th>Drug2</th>\n",
       "    </tr>\n",
       "  </thead>\n",
       "  <tbody>\n",
       "    <tr>\n",
       "      <th>0</th>\n",
       "      <td>DB04571</td>\n",
       "      <td>CC1=CC2=CC3=C(OC(=O)C=C3C)C(C)=C2O1</td>\n",
       "      <td>DB00460</td>\n",
       "      <td>COC(=O)CCC1=C2NC(\\C=C3/N=C(/C=C4\\N\\C(=C/C5=N/C...</td>\n",
       "    </tr>\n",
       "    <tr>\n",
       "      <th>1</th>\n",
       "      <td>DB09536</td>\n",
       "      <td>O=[Ti]=O</td>\n",
       "      <td>DB00460</td>\n",
       "      <td>COC(=O)CCC1=C2NC(\\C=C3/N=C(/C=C4\\N\\C(=C/C5=N/C...</td>\n",
       "    </tr>\n",
       "    <tr>\n",
       "      <th>2</th>\n",
       "      <td>DB01600</td>\n",
       "      <td>CC(C(O)=O)C1=CC=C(S1)C(=O)C1=CC=CC=C1</td>\n",
       "      <td>DB00460</td>\n",
       "      <td>COC(=O)CCC1=C2NC(\\C=C3/N=C(/C=C4\\N\\C(=C/C5=N/C...</td>\n",
       "    </tr>\n",
       "    <tr>\n",
       "      <th>3</th>\n",
       "      <td>DB09000</td>\n",
       "      <td>CC(CN(C)C)CN1C2=CC=CC=C2SC2=C1C=C(C=C2)C#N</td>\n",
       "      <td>DB00460</td>\n",
       "      <td>COC(=O)CCC1=C2NC(\\C=C3/N=C(/C=C4\\N\\C(=C/C5=N/C...</td>\n",
       "    </tr>\n",
       "    <tr>\n",
       "      <th>4</th>\n",
       "      <td>DB11630</td>\n",
       "      <td>OC1=CC=CC(=C1)C-1=C2\\CCC(=N2)\\C(=C2/N\\C(\\C=C2)...</td>\n",
       "      <td>DB00460</td>\n",
       "      <td>COC(=O)CCC1=C2NC(\\C=C3/N=C(/C=C4\\N\\C(=C/C5=N/C...</td>\n",
       "    </tr>\n",
       "  </tbody>\n",
       "</table>\n",
       "</div>"
      ],
      "text/plain": [
       "  Drug1_ID                                              Drug1 Drug2_ID  \\\n",
       "0  DB04571                CC1=CC2=CC3=C(OC(=O)C=C3C)C(C)=C2O1  DB00460   \n",
       "1  DB09536                                           O=[Ti]=O  DB00460   \n",
       "2  DB01600              CC(C(O)=O)C1=CC=C(S1)C(=O)C1=CC=CC=C1  DB00460   \n",
       "3  DB09000         CC(CN(C)C)CN1C2=CC=CC=C2SC2=C1C=C(C=C2)C#N  DB00460   \n",
       "4  DB11630  OC1=CC=CC(=C1)C-1=C2\\CCC(=N2)\\C(=C2/N\\C(\\C=C2)...  DB00460   \n",
       "\n",
       "                                               Drug2  \n",
       "0  COC(=O)CCC1=C2NC(\\C=C3/N=C(/C=C4\\N\\C(=C/C5=N/C...  \n",
       "1  COC(=O)CCC1=C2NC(\\C=C3/N=C(/C=C4\\N\\C(=C/C5=N/C...  \n",
       "2  COC(=O)CCC1=C2NC(\\C=C3/N=C(/C=C4\\N\\C(=C/C5=N/C...  \n",
       "3  COC(=O)CCC1=C2NC(\\C=C3/N=C(/C=C4\\N\\C(=C/C5=N/C...  \n",
       "4  COC(=O)CCC1=C2NC(\\C=C3/N=C(/C=C4\\N\\C(=C/C5=N/C...  "
      ]
     },
     "execution_count": 19,
     "metadata": {},
     "output_type": "execute_result"
    }
   ],
   "source": [
    "train_X.head()\n"
   ]
  },
  {
   "cell_type": "code",
   "execution_count": 20,
   "id": "6924245f-ac3b-4597-a52c-10f900b0c942",
   "metadata": {},
   "outputs": [
    {
     "data": {
      "text/plain": [
       "0    1\n",
       "1    1\n",
       "2    1\n",
       "3    1\n",
       "4    1\n",
       "Name: Y, dtype: int64"
      ]
     },
     "execution_count": 20,
     "metadata": {},
     "output_type": "execute_result"
    }
   ],
   "source": [
    "train_y.head()"
   ]
  },
  {
   "cell_type": "code",
   "execution_count": 21,
   "id": "1099dec9-f464-4234-bc28-9c9eabe1d6a3",
   "metadata": {},
   "outputs": [
    {
     "data": {
      "text/plain": [
       "Y\n",
       "49    42592\n",
       "47    24102\n",
       "73    16509\n",
       "75     6539\n",
       "60     5945\n",
       "      ...  \n",
       "43        7\n",
       "41        7\n",
       "26        6\n",
       "62        4\n",
       "42        3\n",
       "Name: count, Length: 86, dtype: int64"
      ]
     },
     "execution_count": 21,
     "metadata": {},
     "output_type": "execute_result"
    }
   ],
   "source": [
    "train_y.value_counts()"
   ]
  },
  {
   "cell_type": "code",
   "execution_count": 74,
   "id": "52912931-46b2-4332-a824-1a20122ca29e",
   "metadata": {},
   "outputs": [
    {
     "name": "stdout",
     "output_type": "stream",
     "text": [
      "Class=1, n=9 (0.007%)\n",
      "Class=2, n=218 (0.162%)\n",
      "Class=3, n=372 (0.277%)\n",
      "Class=4, n=3526 (2.626%)\n",
      "Class=5, n=217 (0.162%)\n",
      "Class=6, n=2206 (1.643%)\n",
      "Class=7, n=14 (0.010%)\n",
      "Class=8, n=187 (0.139%)\n",
      "Class=9, n=1492 (1.111%)\n",
      "Class=10, n=447 (0.333%)\n",
      "Class=11, n=223 (0.166%)\n",
      "Class=12, n=167 (0.124%)\n",
      "Class=13, n=31 (0.023%)\n",
      "Class=14, n=258 (0.192%)\n",
      "Class=15, n=149 (0.111%)\n",
      "Class=16, n=3727 (2.776%)\n",
      "Class=17, n=60 (0.045%)\n",
      "Class=18, n=57 (0.042%)\n",
      "Class=19, n=84 (0.063%)\n",
      "Class=20, n=4352 (3.241%)\n",
      "Class=21, n=298 (0.222%)\n",
      "Class=22, n=65 (0.048%)\n",
      "Class=23, n=39 (0.029%)\n",
      "Class=24, n=139 (0.104%)\n",
      "Class=25, n=497 (0.370%)\n",
      "Class=26, n=6 (0.004%)\n",
      "Class=27, n=652 (0.486%)\n",
      "Class=28, n=9 (0.007%)\n",
      "Class=29, n=217 (0.162%)\n",
      "Class=30, n=425 (0.317%)\n",
      "Class=31, n=10 (0.007%)\n",
      "Class=32, n=687 (0.512%)\n",
      "Class=33, n=307 (0.229%)\n",
      "Class=34, n=218 (0.162%)\n",
      "Class=35, n=51 (0.038%)\n",
      "Class=36, n=63 (0.047%)\n",
      "Class=37, n=2138 (1.592%)\n",
      "Class=38, n=23 (0.017%)\n",
      "Class=39, n=103 (0.077%)\n",
      "Class=40, n=208 (0.155%)\n",
      "Class=41, n=7 (0.005%)\n",
      "Class=42, n=3 (0.002%)\n",
      "Class=43, n=7 (0.005%)\n",
      "Class=44, n=8 (0.006%)\n",
      "Class=45, n=21 (0.016%)\n",
      "Class=46, n=20 (0.015%)\n",
      "Class=47, n=24102 (17.951%)\n",
      "Class=48, n=51 (0.038%)\n",
      "Class=49, n=42592 (31.722%)\n",
      "Class=50, n=15 (0.011%)\n",
      "Class=51, n=59 (0.044%)\n",
      "Class=52, n=8 (0.006%)\n",
      "Class=53, n=232 (0.173%)\n",
      "Class=54, n=894 (0.666%)\n",
      "Class=55, n=81 (0.060%)\n",
      "Class=56, n=20 (0.015%)\n",
      "Class=57, n=452 (0.337%)\n",
      "Class=58, n=739 (0.550%)\n",
      "Class=59, n=27 (0.020%)\n",
      "Class=60, n=5945 (4.428%)\n",
      "Class=61, n=341 (0.254%)\n",
      "Class=62, n=4 (0.003%)\n",
      "Class=63, n=20 (0.015%)\n",
      "Class=64, n=546 (0.407%)\n",
      "Class=65, n=19 (0.014%)\n",
      "Class=66, n=89 (0.066%)\n",
      "Class=67, n=673 (0.501%)\n",
      "Class=68, n=196 (0.146%)\n",
      "Class=69, n=205 (0.153%)\n",
      "Class=70, n=5470 (4.074%)\n",
      "Class=71, n=463 (0.345%)\n",
      "Class=72, n=1273 (0.948%)\n",
      "Class=73, n=16509 (12.296%)\n",
      "Class=74, n=299 (0.223%)\n",
      "Class=75, n=6539 (4.870%)\n",
      "Class=76, n=403 (0.300%)\n",
      "Class=77, n=381 (0.284%)\n",
      "Class=78, n=20 (0.015%)\n",
      "Class=79, n=23 (0.017%)\n",
      "Class=80, n=49 (0.036%)\n",
      "Class=81, n=84 (0.063%)\n",
      "Class=82, n=257 (0.191%)\n",
      "Class=83, n=834 (0.621%)\n",
      "Class=84, n=50 (0.037%)\n",
      "Class=85, n=265 (0.197%)\n",
      "Class=86, n=19 (0.014%)\n"
     ]
    }
   ],
   "source": [
    "train_counter = Counter(train_y)\n",
    "for k,v in train_counter.items():\n",
    "\tper = v / len(train_y) * 100\n",
    "\tprint('Class=%d, n=%d (%.3f%%)' % (k, v, per))"
   ]
  },
  {
   "cell_type": "code",
   "execution_count": 90,
   "id": "a19ca35c-8347-4af4-9de9-5be1e98d73b8",
   "metadata": {},
   "outputs": [
    {
     "data": {
      "image/png": "[encoded data removed]",
      "text/plain": [
       "<Figure size 1800x600 with 1 Axes>"
      ]
     },
     "metadata": {},
     "output_type": "display_data"
    }
   ],
   "source": [
    "plt.figure(figsize=(18, 6))\n",
    "sns.countplot(x=train_y, color=\"#4361ee\")\n",
    "plt.xticks(rotation=90, fontsize=12)\n",
    "plt.tight_layout(pad=3.0)\n",
    "plt.title(\"Class Distribution of Training Data\",  fontsize=20)\n",
    "plt.savefig(\"train-data-class-distribution.png\")\n",
    "plt.show()"
   ]
  },
  {
   "cell_type": "code",
   "execution_count": 22,
   "id": "368fc7ef-73c4-4a59-ae7d-02ae362907ee",
   "metadata": {},
   "outputs": [
    {
     "data": {
      "text/plain": [
       "array([ 1,  2,  3,  4,  5,  6,  7,  8,  9, 10, 11, 12, 13, 14, 15, 16, 17,\n",
       "       18, 19, 20, 21, 22, 23, 24, 25, 26, 27, 28, 29, 30, 31, 32, 33, 34,\n",
       "       35, 36, 37, 38, 39, 40, 41, 42, 43, 44, 45, 46, 47, 48, 49, 50, 51,\n",
       "       52, 53, 54, 55, 56, 57, 58, 59, 60, 61, 62, 63, 64, 65, 66, 67, 68,\n",
       "       69, 70, 71, 72, 73, 74, 75, 76, 77, 78, 79, 80, 81, 82, 83, 84, 85,\n",
       "       86])"
      ]
     },
     "execution_count": 22,
     "metadata": {},
     "output_type": "execute_result"
    }
   ],
   "source": [
    "train_y.unique()"
   ]
  },
  {
   "cell_type": "code",
   "execution_count": 44,
   "id": "2c66a35e-009a-40c8-af4a-076a01663377",
   "metadata": {},
   "outputs": [],
   "source": [
    "test_X = test.iloc[:, :-1]\n",
    "test_y = test.iloc[:, -1]"
   ]
  },
  {
   "cell_type": "code",
   "execution_count": 45,
   "id": "c375a6a6-0355-4136-abfb-3c3f1b110721",
   "metadata": {},
   "outputs": [
    {
     "data": {
      "text/plain": [
       "Y\n",
       "49    12108\n",
       "47     6867\n",
       "73     4873\n",
       "75     1903\n",
       "60     1652\n",
       "      ...  \n",
       "31        2\n",
       "28        1\n",
       "1         1\n",
       "43        1\n",
       "52        1\n",
       "Name: count, Length: 85, dtype: int64"
      ]
     },
     "execution_count": 45,
     "metadata": {},
     "output_type": "execute_result"
    }
   ],
   "source": [
    "test_y.value_counts()"
   ]
  },
  {
   "cell_type": "code",
   "execution_count": 75,
   "id": "21fa13a9-86b1-4554-bb75-f85a4c2b3f46",
   "metadata": {},
   "outputs": [
    {
     "name": "stdout",
     "output_type": "stream",
     "text": [
      "Class=47, n=6867 (17.901%)\n",
      "Class=73, n=4873 (12.703%)\n",
      "Class=60, n=1652 (4.306%)\n",
      "Class=75, n=1903 (4.961%)\n",
      "Class=49, n=12108 (31.562%)\n",
      "Class=69, n=52 (0.136%)\n",
      "Class=20, n=1170 (3.050%)\n",
      "Class=70, n=1564 (4.077%)\n",
      "Class=16, n=1114 (2.904%)\n",
      "Class=71, n=133 (0.347%)\n",
      "Class=74, n=76 (0.198%)\n",
      "Class=4, n=984 (2.565%)\n",
      "Class=9, n=404 (1.053%)\n",
      "Class=6, n=631 (1.645%)\n",
      "Class=64, n=166 (0.433%)\n",
      "Class=44, n=4 (0.010%)\n",
      "Class=32, n=205 (0.534%)\n",
      "Class=77, n=106 (0.276%)\n",
      "Class=37, n=635 (1.655%)\n",
      "Class=83, n=245 (0.639%)\n",
      "Class=30, n=131 (0.341%)\n",
      "Class=24, n=26 (0.068%)\n",
      "Class=31, n=2 (0.005%)\n",
      "Class=27, n=186 (0.485%)\n",
      "Class=33, n=101 (0.263%)\n",
      "Class=58, n=187 (0.487%)\n",
      "Class=29, n=72 (0.188%)\n",
      "Class=57, n=151 (0.394%)\n",
      "Class=67, n=178 (0.464%)\n",
      "Class=5, n=62 (0.162%)\n",
      "Class=25, n=141 (0.368%)\n",
      "Class=11, n=63 (0.164%)\n",
      "Class=76, n=98 (0.255%)\n",
      "Class=72, n=358 (0.933%)\n",
      "Class=85, n=68 (0.177%)\n",
      "Class=54, n=254 (0.662%)\n",
      "Class=10, n=131 (0.341%)\n",
      "Class=21, n=88 (0.229%)\n",
      "Class=86, n=7 (0.018%)\n",
      "Class=18, n=18 (0.047%)\n",
      "Class=8, n=37 (0.096%)\n",
      "Class=68, n=51 (0.133%)\n",
      "Class=34, n=69 (0.180%)\n",
      "Class=53, n=70 (0.182%)\n",
      "Class=61, n=111 (0.289%)\n",
      "Class=84, n=9 (0.023%)\n",
      "Class=22, n=21 (0.055%)\n",
      "Class=38, n=8 (0.021%)\n",
      "Class=3, n=100 (0.261%)\n",
      "Class=14, n=61 (0.159%)\n",
      "Class=66, n=28 (0.073%)\n",
      "Class=65, n=10 (0.026%)\n",
      "Class=13, n=9 (0.023%)\n",
      "Class=2, n=73 (0.190%)\n",
      "Class=36, n=23 (0.060%)\n",
      "Class=51, n=18 (0.047%)\n",
      "Class=17, n=10 (0.026%)\n",
      "Class=15, n=36 (0.094%)\n",
      "Class=82, n=72 (0.188%)\n",
      "Class=81, n=18 (0.047%)\n",
      "Class=40, n=72 (0.188%)\n",
      "Class=12, n=46 (0.120%)\n",
      "Class=56, n=10 (0.026%)\n",
      "Class=55, n=25 (0.065%)\n",
      "Class=48, n=11 (0.029%)\n",
      "Class=50, n=9 (0.023%)\n",
      "Class=80, n=14 (0.036%)\n",
      "Class=39, n=27 (0.070%)\n",
      "Class=23, n=15 (0.039%)\n",
      "Class=19, n=14 (0.036%)\n",
      "Class=35, n=14 (0.036%)\n",
      "Class=78, n=5 (0.013%)\n",
      "Class=7, n=3 (0.008%)\n",
      "Class=62, n=4 (0.010%)\n",
      "Class=41, n=5 (0.013%)\n",
      "Class=59, n=9 (0.023%)\n",
      "Class=79, n=4 (0.010%)\n",
      "Class=63, n=9 (0.023%)\n",
      "Class=28, n=1 (0.003%)\n",
      "Class=42, n=2 (0.005%)\n",
      "Class=46, n=5 (0.013%)\n",
      "Class=1, n=1 (0.003%)\n",
      "Class=43, n=1 (0.003%)\n",
      "Class=45, n=7 (0.018%)\n",
      "Class=52, n=1 (0.003%)\n"
     ]
    }
   ],
   "source": [
    "test_counter = Counter(test_y)\n",
    "for k,v in test_counter.items():\n",
    "\tper = v / len(test_y) * 100\n",
    "\tprint('Class=%d, n=%d (%.3f%%)' % (k, v, per))"
   ]
  },
  {
   "cell_type": "code",
   "execution_count": 91,
   "id": "dc74ef3d-68d9-4280-8263-0c81d328b0b5",
   "metadata": {},
   "outputs": [
    {
     "data": {
      "image/png": "[encoded data removed]",
      "text/plain": [
       "<Figure size 1800x600 with 1 Axes>"
      ]
     },
     "metadata": {},
     "output_type": "display_data"
    }
   ],
   "source": [
    "plt.figure(figsize=(18, 6))\n",
    "sns.countplot(x=test_y, color=\"#2a9d8f\")\n",
    "plt.xticks(rotation=90, fontsize=12)\n",
    "plt.tight_layout(pad=3.0)\n",
    "plt.title(\"Class Distribution of Test Data\", fontsize=20)\n",
    "plt.savefig(\"test-data-class-distribution.png\")\n",
    "plt.show()"
   ]
  },
  {
   "cell_type": "code",
   "execution_count": 47,
   "id": "e8c5ac0c-f66b-4757-a2e2-b30b4cff8a41",
   "metadata": {},
   "outputs": [],
   "source": [
    "valid_X = valid.iloc[:, :-1]\n",
    "valid_y = valid.iloc[:, -1]"
   ]
  },
  {
   "cell_type": "code",
   "execution_count": 76,
   "id": "a0b73081-8508-47ff-9e3e-8de21d85f140",
   "metadata": {},
   "outputs": [
    {
     "data": {
      "text/plain": [
       "Y\n",
       "49    6051\n",
       "47    3391\n",
       "73    2397\n",
       "75    1028\n",
       "60     800\n",
       "      ... \n",
       "42       1\n",
       "52       1\n",
       "46       1\n",
       "44       1\n",
       "26       1\n",
       "Name: count, Length: 85, dtype: int64"
      ]
     },
     "execution_count": 76,
     "metadata": {},
     "output_type": "execute_result"
    }
   ],
   "source": [
    "valid_y.value_counts()"
   ]
  },
  {
   "cell_type": "code",
   "execution_count": 77,
   "id": "9893f39a-7ef7-4e4a-8c84-9eeee7fb1dc1",
   "metadata": {},
   "outputs": [
    {
     "name": "stdout",
     "output_type": "stream",
     "text": [
      "Class=47, n=3391 (17.679%)\n",
      "Class=49, n=6051 (31.547%)\n",
      "Class=73, n=2397 (12.497%)\n",
      "Class=70, n=752 (3.921%)\n",
      "Class=60, n=800 (4.171%)\n",
      "Class=75, n=1028 (5.359%)\n",
      "Class=20, n=618 (3.222%)\n",
      "Class=16, n=572 (2.982%)\n",
      "Class=37, n=316 (1.647%)\n",
      "Class=38, n=2 (0.010%)\n",
      "Class=58, n=117 (0.610%)\n",
      "Class=9, n=213 (1.110%)\n",
      "Class=25, n=78 (0.407%)\n",
      "Class=34, n=25 (0.130%)\n",
      "Class=10, n=51 (0.266%)\n",
      "Class=4, n=501 (2.612%)\n",
      "Class=5, n=30 (0.156%)\n",
      "Class=32, n=119 (0.620%)\n",
      "Class=8, n=20 (0.104%)\n",
      "Class=64, n=91 (0.474%)\n",
      "Class=77, n=51 (0.266%)\n",
      "Class=68, n=31 (0.162%)\n",
      "Class=76, n=57 (0.297%)\n",
      "Class=21, n=42 (0.219%)\n",
      "Class=61, n=46 (0.240%)\n",
      "Class=74, n=47 (0.245%)\n",
      "Class=67, n=79 (0.412%)\n",
      "Class=72, n=194 (1.011%)\n",
      "Class=55, n=12 (0.063%)\n",
      "Class=11, n=26 (0.136%)\n",
      "Class=3, n=46 (0.240%)\n",
      "Class=83, n=125 (0.652%)\n",
      "Class=54, n=129 (0.673%)\n",
      "Class=17, n=13 (0.068%)\n",
      "Class=69, n=23 (0.120%)\n",
      "Class=30, n=60 (0.313%)\n",
      "Class=6, n=323 (1.684%)\n",
      "Class=53, n=34 (0.177%)\n",
      "Class=71, n=77 (0.401%)\n",
      "Class=85, n=39 (0.203%)\n",
      "Class=14, n=42 (0.219%)\n",
      "Class=27, n=98 (0.511%)\n",
      "Class=40, n=20 (0.104%)\n",
      "Class=2, n=32 (0.167%)\n",
      "Class=12, n=25 (0.130%)\n",
      "Class=29, n=35 (0.182%)\n",
      "Class=84, n=6 (0.031%)\n",
      "Class=36, n=8 (0.042%)\n",
      "Class=57, n=61 (0.318%)\n",
      "Class=33, n=34 (0.177%)\n",
      "Class=24, n=15 (0.078%)\n",
      "Class=48, n=7 (0.036%)\n",
      "Class=45, n=5 (0.026%)\n",
      "Class=59, n=7 (0.036%)\n",
      "Class=39, n=18 (0.094%)\n",
      "Class=15, n=17 (0.089%)\n",
      "Class=19, n=11 (0.057%)\n",
      "Class=51, n=6 (0.031%)\n",
      "Class=43, n=3 (0.016%)\n",
      "Class=65, n=3 (0.016%)\n",
      "Class=66, n=11 (0.057%)\n",
      "Class=82, n=26 (0.136%)\n",
      "Class=44, n=1 (0.005%)\n",
      "Class=52, n=1 (0.005%)\n",
      "Class=42, n=1 (0.005%)\n",
      "Class=31, n=2 (0.010%)\n",
      "Class=18, n=7 (0.036%)\n",
      "Class=35, n=4 (0.021%)\n",
      "Class=50, n=2 (0.010%)\n",
      "Class=81, n=6 (0.031%)\n",
      "Class=13, n=5 (0.026%)\n",
      "Class=78, n=3 (0.016%)\n",
      "Class=56, n=3 (0.016%)\n",
      "Class=1, n=1 (0.005%)\n",
      "Class=22, n=8 (0.042%)\n",
      "Class=28, n=1 (0.005%)\n",
      "Class=80, n=1 (0.005%)\n",
      "Class=7, n=4 (0.021%)\n",
      "Class=86, n=1 (0.005%)\n",
      "Class=62, n=3 (0.016%)\n",
      "Class=41, n=2 (0.010%)\n",
      "Class=46, n=1 (0.005%)\n",
      "Class=63, n=5 (0.026%)\n",
      "Class=23, n=2 (0.010%)\n",
      "Class=26, n=1 (0.005%)\n"
     ]
    }
   ],
   "source": [
    "valid_counter = Counter(valid_y)\n",
    "for k,v in valid_counter.items():\n",
    "\tper = v / len(valid_y) * 100\n",
    "\tprint('Class=%d, n=%d (%.3f%%)' % (k, v, per))"
   ]
  },
  {
   "cell_type": "code",
   "execution_count": 92,
   "id": "eba667ae-d0ab-4a29-a232-3af16deff747",
   "metadata": {},
   "outputs": [
    {
     "data": {
      "image/png": "[encoded data removed]",
      "text/plain": [
       "<Figure size 1800x600 with 1 Axes>"
      ]
     },
     "metadata": {},
     "output_type": "display_data"
    }
   ],
   "source": [
    "plt.figure(figsize=(18, 6))\n",
    "sns.countplot(x=valid_y, color=\"#ff5733\")\n",
    "plt.xticks(rotation=90, fontsize=12)\n",
    "plt.tight_layout(pad=3.0)\n",
    "plt.title(\"Class Distribution of Validation Data\",  fontsize=20)\n",
    "plt.savefig(\"validation-data-class-distribution.png\")\n",
    "plt.show()\n"
   ]
  },
  {
   "cell_type": "markdown",
   "id": "b005b39c-4535-426f-8f62-2e643cd93c26",
   "metadata": {},
   "source": [
    "### To know what type of relation the label index corresponds to,run the cell below"
   ]
  },
  {
   "cell_type": "code",
   "execution_count": 25,
   "id": "420dfb73-f1a6-456e-bd06-76cab69672e4",
   "metadata": {},
   "outputs": [],
   "source": [
    "from tdc.utils import get_label_map\n"
   ]
  },
  {
   "cell_type": "code",
   "execution_count": null,
   "id": "83248e4c-e69a-4e54-9125-345a592e16ae",
   "metadata": {},
   "outputs": [],
   "source": [
    "get_label_map(name = 'DrugBank', task = 'DDI')"
   ]
  },
  {
   "cell_type": "markdown",
   "id": "f64a9a19-0dca-4286-9fb3-f374d729cbe4",
   "metadata": {},
   "source": [
    "# Featurisation"
   ]
  },
  {
   "cell_type": "code",
   "execution_count": 27,
   "id": "3d5b84af-04d7-4538-a372-4953deba4599",
   "metadata": {},
   "outputs": [
    {
     "name": "stdout",
     "output_type": "stream",
     "text": [
      "Fetching model eos4wt0...\n",
      "Model fetched successfully\n",
      "🚀 Serving model eos4wt0: morgan-fps\n",
      "\n",
      "   URL: http://0.0.0.0:52469\n",
      "   PID: -1\n",
      "   SRV: pulled_docker\n",
      "   Output source: local-only\n",
      "\n",
      "👉 To run model:\n",
      "   - run\n",
      "\n",
      "💁 Information:\n",
      "   - info\n",
      "Ersilia model server is running\n",
      "Processing ../data/train.csv...\n",
      "Featurizing Drug1 from ../data/train.csv...\n",
      "Successfully featurized Drug1 in ../data/train.csv\n",
      "Featurizing Drug2 from ../data/train.csv...\n",
      "Successfully featurized Drug2 in ../data/train.csv\n",
      "Featurized data saved to ../data/featurised_train.csv\n",
      "Deleted temporary file: ../data/train_drug1.csv\n",
      "Deleted temporary file: ../data/train_drug1_feat.csv\n",
      "Deleted temporary file: ../data/train_drug2.csv\n",
      "Deleted temporary file: ../data/train_drug2_feat.csv\n",
      "Processing ../data/valid.csv...\n",
      "Featurizing Drug1 from ../data/valid.csv...\n",
      "Successfully featurized Drug1 in ../data/valid.csv\n",
      "Featurizing Drug2 from ../data/valid.csv...\n",
      "Successfully featurized Drug2 in ../data/valid.csv\n",
      "Featurized data saved to ../data/featurised_valid.csv\n",
      "Deleted temporary file: ../data/valid_drug1.csv\n",
      "Deleted temporary file: ../data/valid_drug1_feat.csv\n",
      "Deleted temporary file: ../data/valid_drug2.csv\n",
      "Deleted temporary file: ../data/valid_drug2_feat.csv\n",
      "Processing ../data/test.csv...\n",
      "Featurizing Drug1 from ../data/test.csv...\n",
      "Successfully featurized Drug1 in ../data/test.csv\n",
      "Featurizing Drug2 from ../data/test.csv...\n",
      "Successfully featurized Drug2 in ../data/test.csv\n",
      "Featurized data saved to ../data/featurised_test.csv\n",
      "Deleted temporary file: ../data/test_drug1.csv\n",
      "Deleted temporary file: ../data/test_drug1_feat.csv\n",
      "Deleted temporary file: ../data/test_drug2.csv\n",
      "Deleted temporary file: ../data/test_drug2_feat.csv\n",
      "Ersilia server stopped.\n"
     ]
    }
   ],
   "source": [
    "%run '../scripts/featuriser.py'"
   ]
  },
  {
   "cell_type": "code",
   "execution_count": null,
   "id": "f8f43dcb-2254-433e-a551-195d38257075",
   "metadata": {},
   "outputs": [],
   "source": []
  }
 ],
 "metadata": {
  "kernelspec": {
   "display_name": "Python 3 (ipykernel)",
   "language": "python",
   "name": "python3"
  },
  "language_info": {
   "codemirror_mode": {
    "name": "ipython",
    "version": 3
   },
   "file_extension": ".py",
   "mimetype": "text/x-python",
   "name": "python",
   "nbconvert_exporter": "python",
   "pygments_lexer": "ipython3",
   "version": "3.12.2"
  }
 },
 "nbformat": 4,
 "nbformat_minor": 5
}
