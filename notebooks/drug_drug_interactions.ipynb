{
 "cells": [
  {
   "cell_type": "markdown",
   "id": "3f506804-521a-42ad-8cc4-d4064bd97e24",
   "metadata": {},
   "source": [
    "# Installation"
   ]
  },
  {
   "cell_type": "code",
   "execution_count": 26,
   "id": "53d32830-3d2e-411e-a414-697b44f32cde",
   "metadata": {},
   "outputs": [
    {
     "name": "stdout",
     "output_type": "stream",
     "text": [
      "Requirement already satisfied: PyTDC in /Users/valentinabuoro/miniconda3/lib/python3.12/site-packages (1.0.0)\n",
      "Requirement already satisfied: biopython<2.0,>=1.78 in /Users/valentinabuoro/miniconda3/lib/python3.12/site-packages (from PyTDC) (1.85)\n",
      "Requirement already satisfied: dataclasses<1.0,>=0.6 in /Users/valentinabuoro/miniconda3/lib/python3.12/site-packages (from PyTDC) (0.6)\n",
      "Requirement already satisfied: fuzzywuzzy<1.0,>=0.18.0 in /Users/valentinabuoro/miniconda3/lib/python3.12/site-packages (from PyTDC) (0.18.0)\n",
      "Requirement already satisfied: huggingface-hub<1.0,>=0.20.3 in /Users/valentinabuoro/miniconda3/lib/python3.12/site-packages (from PyTDC) (0.29.3)\n",
      "Requirement already satisfied: mygene<4.0.0,>=3.2.2 in /Users/valentinabuoro/miniconda3/lib/python3.12/site-packages (from PyTDC) (3.2.2)\n",
      "Requirement already satisfied: numpy<2.0.0,>=1.26.4 in /Users/valentinabuoro/miniconda3/lib/python3.12/site-packages (from PyTDC) (1.26.4)\n",
      "Requirement already satisfied: openpyxl<4.0.0,>=3.0.10 in /Users/valentinabuoro/miniconda3/lib/python3.12/site-packages (from PyTDC) (3.1.5)\n",
      "Requirement already satisfied: pandas<3.0.0,>=2.1.4 in /Users/valentinabuoro/miniconda3/lib/python3.12/site-packages (from PyTDC) (2.2.3)\n",
      "Requirement already satisfied: requests<3.0.0,>=2.31.0 in /Users/valentinabuoro/miniconda3/lib/python3.12/site-packages (from PyTDC) (2.31.0)\n",
      "Requirement already satisfied: scikit-learn==1.2.2 in /Users/valentinabuoro/miniconda3/lib/python3.12/site-packages (from PyTDC) (1.2.2)\n",
      "Requirement already satisfied: seaborn<1.0.0,>=0.12.2 in /Users/valentinabuoro/miniconda3/lib/python3.12/site-packages (from PyTDC) (0.13.2)\n",
      "Requirement already satisfied: tqdm<5.0.0,>=4.65.0 in /Users/valentinabuoro/miniconda3/lib/python3.12/site-packages (from PyTDC) (4.67.1)\n",
      "Requirement already satisfied: cellxgene-census<2.0.0,>=1.10.2 in /Users/valentinabuoro/miniconda3/lib/python3.12/site-packages (from PyTDC) (1.16.2)\n",
      "Requirement already satisfied: gget<1.0.0,>=0.28.4 in /Users/valentinabuoro/miniconda3/lib/python3.12/site-packages (from PyTDC) (0.29.0)\n",
      "Requirement already satisfied: pydantic<3.0.0,>=2.6.3 in /Users/valentinabuoro/miniconda3/lib/python3.12/site-packages (from PyTDC) (2.10.6)\n",
      "Requirement already satisfied: rdkit<2024.3.1,>=2023.9.5 in /Users/valentinabuoro/miniconda3/lib/python3.12/site-packages (from PyTDC) (2023.9.6)\n",
      "Requirement already satisfied: tiledbsoma<2.0.0,>=1.7.2 in /Users/valentinabuoro/miniconda3/lib/python3.12/site-packages (from PyTDC) (1.15.7)\n",
      "Requirement already satisfied: yapf<1.0.0,>=0.40.2 in /Users/valentinabuoro/miniconda3/lib/python3.12/site-packages (from PyTDC) (0.43.0)\n",
      "Requirement already satisfied: scipy>=1.3.2 in /Users/valentinabuoro/miniconda3/lib/python3.12/site-packages (from scikit-learn==1.2.2->PyTDC) (1.15.2)\n",
      "Requirement already satisfied: joblib>=1.1.1 in /Users/valentinabuoro/miniconda3/lib/python3.12/site-packages (from scikit-learn==1.2.2->PyTDC) (1.4.2)\n",
      "Requirement already satisfied: threadpoolctl>=2.0.0 in /Users/valentinabuoro/miniconda3/lib/python3.12/site-packages (from scikit-learn==1.2.2->PyTDC) (3.6.0)\n",
      "Requirement already satisfied: anndata in /Users/valentinabuoro/miniconda3/lib/python3.12/site-packages (from cellxgene-census<2.0.0,>=1.10.2->PyTDC) (0.11.3)\n",
      "Requirement already satisfied: typing-extensions in /Users/valentinabuoro/miniconda3/lib/python3.12/site-packages (from cellxgene-census<2.0.0,>=1.10.2->PyTDC) (4.12.2)\n",
      "Requirement already satisfied: s3fs>=2021.06.1 in /Users/valentinabuoro/miniconda3/lib/python3.12/site-packages (from cellxgene-census<2.0.0,>=1.10.2->PyTDC) (2025.3.0)\n",
      "Requirement already satisfied: ipython in /Users/valentinabuoro/miniconda3/lib/python3.12/site-packages (from gget<1.0.0,>=0.28.4->PyTDC) (8.30.0)\n",
      "Requirement already satisfied: matplotlib in /Users/valentinabuoro/miniconda3/lib/python3.12/site-packages (from gget<1.0.0,>=0.28.4->PyTDC) (3.10.1)\n",
      "Requirement already satisfied: mysql-connector-python>=8.0.32 in /Users/valentinabuoro/miniconda3/lib/python3.12/site-packages (from gget<1.0.0,>=0.28.4->PyTDC) (9.2.0)\n",
      "Requirement already satisfied: beautifulsoup4>=4.10.0 in /Users/valentinabuoro/miniconda3/lib/python3.12/site-packages (from gget<1.0.0,>=0.28.4->PyTDC) (4.12.3)\n",
      "Requirement already satisfied: ipywidgets in /Users/valentinabuoro/miniconda3/lib/python3.12/site-packages (from gget<1.0.0,>=0.28.4->PyTDC) (8.1.5)\n",
      "Requirement already satisfied: lxml in /Users/valentinabuoro/miniconda3/lib/python3.12/site-packages (from gget<1.0.0,>=0.28.4->PyTDC) (5.3.1)\n",
      "Requirement already satisfied: filelock in /Users/valentinabuoro/miniconda3/lib/python3.12/site-packages (from huggingface-hub<1.0,>=0.20.3->PyTDC) (3.13.1)\n",
      "Requirement already satisfied: fsspec>=2023.5.0 in /Users/valentinabuoro/miniconda3/lib/python3.12/site-packages (from huggingface-hub<1.0,>=0.20.3->PyTDC) (2025.3.0)\n",
      "Requirement already satisfied: packaging>=20.9 in /Users/valentinabuoro/miniconda3/lib/python3.12/site-packages (from huggingface-hub<1.0,>=0.20.3->PyTDC) (23.1)\n",
      "Requirement already satisfied: pyyaml>=5.1 in /Users/valentinabuoro/miniconda3/lib/python3.12/site-packages (from huggingface-hub<1.0,>=0.20.3->PyTDC) (6.0.1)\n",
      "Requirement already satisfied: biothings-client>=0.2.6 in /Users/valentinabuoro/miniconda3/lib/python3.12/site-packages (from mygene<4.0.0,>=3.2.2->PyTDC) (0.4.1)\n",
      "Requirement already satisfied: et-xmlfile in /Users/valentinabuoro/miniconda3/lib/python3.12/site-packages (from openpyxl<4.0.0,>=3.0.10->PyTDC) (2.0.0)\n",
      "Requirement already satisfied: python-dateutil>=2.8.2 in /Users/valentinabuoro/miniconda3/lib/python3.12/site-packages (from pandas<3.0.0,>=2.1.4->PyTDC) (2.9.0.post0)\n",
      "Requirement already satisfied: pytz>=2020.1 in /Users/valentinabuoro/miniconda3/lib/python3.12/site-packages (from pandas<3.0.0,>=2.1.4->PyTDC) (2024.1)\n",
      "Requirement already satisfied: tzdata>=2022.7 in /Users/valentinabuoro/miniconda3/lib/python3.12/site-packages (from pandas<3.0.0,>=2.1.4->PyTDC) (2025.1)\n",
      "Requirement already satisfied: annotated-types>=0.6.0 in /Users/valentinabuoro/miniconda3/lib/python3.12/site-packages (from pydantic<3.0.0,>=2.6.3->PyTDC) (0.7.0)\n",
      "Requirement already satisfied: pydantic-core==2.27.2 in /Users/valentinabuoro/miniconda3/lib/python3.12/site-packages (from pydantic<3.0.0,>=2.6.3->PyTDC) (2.27.2)\n",
      "Requirement already satisfied: Pillow in /Users/valentinabuoro/miniconda3/lib/python3.12/site-packages (from rdkit<2024.3.1,>=2023.9.5->PyTDC) (11.1.0)\n",
      "Requirement already satisfied: charset-normalizer<4,>=2 in /Users/valentinabuoro/miniconda3/lib/python3.12/site-packages (from requests<3.0.0,>=2.31.0->PyTDC) (2.0.4)\n",
      "Requirement already satisfied: idna<4,>=2.5 in /Users/valentinabuoro/miniconda3/lib/python3.12/site-packages (from requests<3.0.0,>=2.31.0->PyTDC) (3.4)\n",
      "Requirement already satisfied: urllib3<3,>=1.21.1 in /Users/valentinabuoro/miniconda3/lib/python3.12/site-packages (from requests<3.0.0,>=2.31.0->PyTDC) (2.1.0)\n",
      "Requirement already satisfied: certifi>=2017.4.17 in /Users/valentinabuoro/miniconda3/lib/python3.12/site-packages (from requests<3.0.0,>=2.31.0->PyTDC) (2025.1.31)\n",
      "Requirement already satisfied: attrs>=22.2 in /Users/valentinabuoro/miniconda3/lib/python3.12/site-packages (from tiledbsoma<2.0.0,>=1.7.2->PyTDC) (23.2.0)\n",
      "Requirement already satisfied: pyarrow in /Users/valentinabuoro/miniconda3/lib/python3.12/site-packages (from tiledbsoma<2.0.0,>=1.7.2->PyTDC) (19.0.1)\n",
      "Requirement already satisfied: scanpy>=1.9.2 in /Users/valentinabuoro/miniconda3/lib/python3.12/site-packages (from tiledbsoma<2.0.0,>=1.7.2->PyTDC) (1.11.0)\n",
      "Requirement already satisfied: somacore==1.0.26 in /Users/valentinabuoro/miniconda3/lib/python3.12/site-packages (from tiledbsoma<2.0.0,>=1.7.2->PyTDC) (1.0.26)\n",
      "Requirement already satisfied: pyarrow-hotfix in /Users/valentinabuoro/miniconda3/lib/python3.12/site-packages (from somacore==1.0.26->tiledbsoma<2.0.0,>=1.7.2->PyTDC) (0.6)\n",
      "Requirement already satisfied: shapely in /Users/valentinabuoro/miniconda3/lib/python3.12/site-packages (from somacore==1.0.26->tiledbsoma<2.0.0,>=1.7.2->PyTDC) (2.0.7)\n",
      "Requirement already satisfied: platformdirs>=3.5.1 in /Users/valentinabuoro/miniconda3/lib/python3.12/site-packages (from yapf<1.0.0,>=0.40.2->PyTDC) (3.10.0)\n",
      "Requirement already satisfied: array-api-compat!=1.5,>1.4 in /Users/valentinabuoro/miniconda3/lib/python3.12/site-packages (from anndata->cellxgene-census<2.0.0,>=1.10.2->PyTDC) (1.11.2)\n",
      "Requirement already satisfied: h5py>=3.7 in /Users/valentinabuoro/miniconda3/lib/python3.12/site-packages (from anndata->cellxgene-census<2.0.0,>=1.10.2->PyTDC) (3.13.0)\n",
      "Requirement already satisfied: natsort in /Users/valentinabuoro/miniconda3/lib/python3.12/site-packages (from anndata->cellxgene-census<2.0.0,>=1.10.2->PyTDC) (8.4.0)\n",
      "Requirement already satisfied: soupsieve>1.2 in /Users/valentinabuoro/miniconda3/lib/python3.12/site-packages (from beautifulsoup4>=4.10.0->gget<1.0.0,>=0.28.4->PyTDC) (2.5)\n",
      "Requirement already satisfied: httpx>=0.22.0 in /Users/valentinabuoro/miniconda3/lib/python3.12/site-packages (from biothings-client>=0.2.6->mygene<4.0.0,>=3.2.2->PyTDC) (0.27.0)\n",
      "Requirement already satisfied: contourpy>=1.0.1 in /Users/valentinabuoro/miniconda3/lib/python3.12/site-packages (from matplotlib->gget<1.0.0,>=0.28.4->PyTDC) (1.3.1)\n",
      "Requirement already satisfied: cycler>=0.10 in /Users/valentinabuoro/miniconda3/lib/python3.12/site-packages (from matplotlib->gget<1.0.0,>=0.28.4->PyTDC) (0.12.1)\n",
      "Requirement already satisfied: fonttools>=4.22.0 in /Users/valentinabuoro/miniconda3/lib/python3.12/site-packages (from matplotlib->gget<1.0.0,>=0.28.4->PyTDC) (4.56.0)\n",
      "Requirement already satisfied: kiwisolver>=1.3.1 in /Users/valentinabuoro/miniconda3/lib/python3.12/site-packages (from matplotlib->gget<1.0.0,>=0.28.4->PyTDC) (1.4.8)\n",
      "Requirement already satisfied: pyparsing>=2.3.1 in /Users/valentinabuoro/miniconda3/lib/python3.12/site-packages (from matplotlib->gget<1.0.0,>=0.28.4->PyTDC) (3.2.1)\n",
      "Requirement already satisfied: six>=1.5 in /Users/valentinabuoro/miniconda3/lib/python3.12/site-packages (from python-dateutil>=2.8.2->pandas<3.0.0,>=2.1.4->PyTDC) (1.16.0)\n",
      "Requirement already satisfied: aiobotocore<3.0.0,>=2.5.4 in /Users/valentinabuoro/miniconda3/lib/python3.12/site-packages (from s3fs>=2021.06.1->cellxgene-census<2.0.0,>=1.10.2->PyTDC) (2.21.1)\n",
      "Requirement already satisfied: aiohttp!=4.0.0a0,!=4.0.0a1 in /Users/valentinabuoro/miniconda3/lib/python3.12/site-packages (from s3fs>=2021.06.1->cellxgene-census<2.0.0,>=1.10.2->PyTDC) (3.11.14)\n",
      "Requirement already satisfied: legacy-api-wrap>=1.4 in /Users/valentinabuoro/miniconda3/lib/python3.12/site-packages (from scanpy>=1.9.2->tiledbsoma<2.0.0,>=1.7.2->PyTDC) (1.4.1)\n",
      "Requirement already satisfied: networkx>=2.7 in /Users/valentinabuoro/miniconda3/lib/python3.12/site-packages (from scanpy>=1.9.2->tiledbsoma<2.0.0,>=1.7.2->PyTDC) (3.4.2)\n",
      "Requirement already satisfied: numba>=0.57 in /Users/valentinabuoro/miniconda3/lib/python3.12/site-packages (from scanpy>=1.9.2->tiledbsoma<2.0.0,>=1.7.2->PyTDC) (0.61.0)\n",
      "Requirement already satisfied: patsy!=1.0.0 in /Users/valentinabuoro/miniconda3/lib/python3.12/site-packages (from scanpy>=1.9.2->tiledbsoma<2.0.0,>=1.7.2->PyTDC) (1.0.1)\n",
      "Requirement already satisfied: pynndescent>=0.5 in /Users/valentinabuoro/miniconda3/lib/python3.12/site-packages (from scanpy>=1.9.2->tiledbsoma<2.0.0,>=1.7.2->PyTDC) (0.5.13)\n",
      "Requirement already satisfied: session-info2 in /Users/valentinabuoro/miniconda3/lib/python3.12/site-packages (from scanpy>=1.9.2->tiledbsoma<2.0.0,>=1.7.2->PyTDC) (0.1.2)\n",
      "Requirement already satisfied: statsmodels>=0.13 in /Users/valentinabuoro/miniconda3/lib/python3.12/site-packages (from scanpy>=1.9.2->tiledbsoma<2.0.0,>=1.7.2->PyTDC) (0.14.4)\n",
      "Requirement already satisfied: umap-learn!=0.5.0,>=0.5 in /Users/valentinabuoro/miniconda3/lib/python3.12/site-packages (from scanpy>=1.9.2->tiledbsoma<2.0.0,>=1.7.2->PyTDC) (0.5.7)\n",
      "Requirement already satisfied: decorator in /Users/valentinabuoro/miniconda3/lib/python3.12/site-packages (from ipython->gget<1.0.0,>=0.28.4->PyTDC) (5.1.1)\n",
      "Requirement already satisfied: jedi>=0.16 in /Users/valentinabuoro/miniconda3/lib/python3.12/site-packages (from ipython->gget<1.0.0,>=0.28.4->PyTDC) (0.19.2)\n",
      "Requirement already satisfied: matplotlib-inline in /Users/valentinabuoro/miniconda3/lib/python3.12/site-packages (from ipython->gget<1.0.0,>=0.28.4->PyTDC) (0.1.6)\n",
      "Requirement already satisfied: prompt-toolkit<3.1.0,>=3.0.41 in /Users/valentinabuoro/miniconda3/lib/python3.12/site-packages (from ipython->gget<1.0.0,>=0.28.4->PyTDC) (3.0.43)\n",
      "Requirement already satisfied: pygments>=2.4.0 in /Users/valentinabuoro/miniconda3/lib/python3.12/site-packages (from ipython->gget<1.0.0,>=0.28.4->PyTDC) (2.17.2)\n",
      "Requirement already satisfied: stack-data in /Users/valentinabuoro/miniconda3/lib/python3.12/site-packages (from ipython->gget<1.0.0,>=0.28.4->PyTDC) (0.2.0)\n",
      "Requirement already satisfied: traitlets>=5.13.0 in /Users/valentinabuoro/miniconda3/lib/python3.12/site-packages (from ipython->gget<1.0.0,>=0.28.4->PyTDC) (5.14.3)\n",
      "Requirement already satisfied: pexpect>4.3 in /Users/valentinabuoro/miniconda3/lib/python3.12/site-packages (from ipython->gget<1.0.0,>=0.28.4->PyTDC) (4.9.0)\n",
      "Requirement already satisfied: comm>=0.1.3 in /Users/valentinabuoro/miniconda3/lib/python3.12/site-packages (from ipywidgets->gget<1.0.0,>=0.28.4->PyTDC) (0.2.1)\n",
      "Requirement already satisfied: widgetsnbextension~=4.0.12 in /Users/valentinabuoro/miniconda3/lib/python3.12/site-packages (from ipywidgets->gget<1.0.0,>=0.28.4->PyTDC) (4.0.13)\n",
      "Requirement already satisfied: jupyterlab-widgets~=3.0.12 in /Users/valentinabuoro/miniconda3/lib/python3.12/site-packages (from ipywidgets->gget<1.0.0,>=0.28.4->PyTDC) (3.0.13)\n",
      "Requirement already satisfied: aioitertools<1.0.0,>=0.5.1 in /Users/valentinabuoro/miniconda3/lib/python3.12/site-packages (from aiobotocore<3.0.0,>=2.5.4->s3fs>=2021.06.1->cellxgene-census<2.0.0,>=1.10.2->PyTDC) (0.12.0)\n",
      "Collecting botocore<1.37.2,>=1.37.0 (from aiobotocore<3.0.0,>=2.5.4->s3fs>=2021.06.1->cellxgene-census<2.0.0,>=1.10.2->PyTDC)\n",
      "  Using cached botocore-1.37.1-py3-none-any.whl.metadata (5.7 kB)\n",
      "Requirement already satisfied: jmespath<2.0.0,>=0.7.1 in /Users/valentinabuoro/miniconda3/lib/python3.12/site-packages (from aiobotocore<3.0.0,>=2.5.4->s3fs>=2021.06.1->cellxgene-census<2.0.0,>=1.10.2->PyTDC) (1.0.1)\n",
      "Requirement already satisfied: multidict<7.0.0,>=6.0.0 in /Users/valentinabuoro/miniconda3/lib/python3.12/site-packages (from aiobotocore<3.0.0,>=2.5.4->s3fs>=2021.06.1->cellxgene-census<2.0.0,>=1.10.2->PyTDC) (6.2.0)\n",
      "Requirement already satisfied: wrapt<2.0.0,>=1.10.10 in /Users/valentinabuoro/miniconda3/lib/python3.12/site-packages (from aiobotocore<3.0.0,>=2.5.4->s3fs>=2021.06.1->cellxgene-census<2.0.0,>=1.10.2->PyTDC) (1.17.2)\n",
      "Requirement already satisfied: aiohappyeyeballs>=2.3.0 in /Users/valentinabuoro/miniconda3/lib/python3.12/site-packages (from aiohttp!=4.0.0a0,!=4.0.0a1->s3fs>=2021.06.1->cellxgene-census<2.0.0,>=1.10.2->PyTDC) (2.6.1)\n",
      "Requirement already satisfied: aiosignal>=1.1.2 in /Users/valentinabuoro/miniconda3/lib/python3.12/site-packages (from aiohttp!=4.0.0a0,!=4.0.0a1->s3fs>=2021.06.1->cellxgene-census<2.0.0,>=1.10.2->PyTDC) (1.3.2)\n",
      "Requirement already satisfied: frozenlist>=1.1.1 in /Users/valentinabuoro/miniconda3/lib/python3.12/site-packages (from aiohttp!=4.0.0a0,!=4.0.0a1->s3fs>=2021.06.1->cellxgene-census<2.0.0,>=1.10.2->PyTDC) (1.5.0)\n",
      "Requirement already satisfied: propcache>=0.2.0 in /Users/valentinabuoro/miniconda3/lib/python3.12/site-packages (from aiohttp!=4.0.0a0,!=4.0.0a1->s3fs>=2021.06.1->cellxgene-census<2.0.0,>=1.10.2->PyTDC) (0.3.0)\n",
      "Requirement already satisfied: yarl<2.0,>=1.17.0 in /Users/valentinabuoro/miniconda3/lib/python3.12/site-packages (from aiohttp!=4.0.0a0,!=4.0.0a1->s3fs>=2021.06.1->cellxgene-census<2.0.0,>=1.10.2->PyTDC) (1.18.3)\n",
      "Requirement already satisfied: anyio in /Users/valentinabuoro/miniconda3/lib/python3.12/site-packages (from httpx>=0.22.0->biothings-client>=0.2.6->mygene<4.0.0,>=3.2.2->PyTDC) (4.3.0)\n",
      "Requirement already satisfied: httpcore==1.* in /Users/valentinabuoro/miniconda3/lib/python3.12/site-packages (from httpx>=0.22.0->biothings-client>=0.2.6->mygene<4.0.0,>=3.2.2->PyTDC) (1.0.2)\n",
      "Requirement already satisfied: sniffio in /Users/valentinabuoro/miniconda3/lib/python3.12/site-packages (from httpx>=0.22.0->biothings-client>=0.2.6->mygene<4.0.0,>=3.2.2->PyTDC) (1.3.1)\n",
      "Requirement already satisfied: h11<0.15,>=0.13 in /Users/valentinabuoro/miniconda3/lib/python3.12/site-packages (from httpcore==1.*->httpx>=0.22.0->biothings-client>=0.2.6->mygene<4.0.0,>=3.2.2->PyTDC) (0.14.0)\n",
      "Requirement already satisfied: parso<0.9.0,>=0.8.4 in /Users/valentinabuoro/miniconda3/lib/python3.12/site-packages (from jedi>=0.16->ipython->gget<1.0.0,>=0.28.4->PyTDC) (0.8.4)\n",
      "Requirement already satisfied: llvmlite<0.45,>=0.44.0dev0 in /Users/valentinabuoro/miniconda3/lib/python3.12/site-packages (from numba>=0.57->scanpy>=1.9.2->tiledbsoma<2.0.0,>=1.7.2->PyTDC) (0.44.0)\n",
      "Requirement already satisfied: ptyprocess>=0.5 in /Users/valentinabuoro/miniconda3/lib/python3.12/site-packages (from pexpect>4.3->ipython->gget<1.0.0,>=0.28.4->PyTDC) (0.7.0)\n",
      "Requirement already satisfied: wcwidth in /Users/valentinabuoro/miniconda3/lib/python3.12/site-packages (from prompt-toolkit<3.1.0,>=3.0.41->ipython->gget<1.0.0,>=0.28.4->PyTDC) (0.2.13)\n",
      "Requirement already satisfied: executing in /Users/valentinabuoro/miniconda3/lib/python3.12/site-packages (from stack-data->ipython->gget<1.0.0,>=0.28.4->PyTDC) (0.8.3)\n",
      "Requirement already satisfied: asttokens in /Users/valentinabuoro/miniconda3/lib/python3.12/site-packages (from stack-data->ipython->gget<1.0.0,>=0.28.4->PyTDC) (2.0.5)\n",
      "Requirement already satisfied: pure-eval in /Users/valentinabuoro/miniconda3/lib/python3.12/site-packages (from stack-data->ipython->gget<1.0.0,>=0.28.4->PyTDC) (0.2.2)\n",
      "Using cached botocore-1.37.1-py3-none-any.whl (13.4 MB)\n",
      "Installing collected packages: botocore\n",
      "  Attempting uninstall: botocore\n",
      "    Found existing installation: botocore 1.37.21\n",
      "    Uninstalling botocore-1.37.21:\n",
      "      Successfully uninstalled botocore-1.37.21\n",
      "Successfully installed botocore-1.37.1\n"
     ]
    },
    {
     "name": "stderr",
     "output_type": "stream",
     "text": [
      "\u001b[31mERROR: pip's dependency resolver does not currently take into account all the packages that are installed. This behaviour is the source of the following dependency conflicts.\n",
      "s3transfer 0.11.4 requires botocore<2.0a.0,>=1.37.4, but you have botocore 1.37.1 which is incompatible.\n",
      "boto3 1.37.21 requires botocore<1.38.0,>=1.37.21, but you have botocore 1.37.1 which is incompatible.\u001b[0m\u001b[31m\n",
      "\u001b[0m"
     ]
    },
    {
     "name": "stdout",
     "output_type": "stream",
     "text": [
      "Requirement already satisfied: tiledbsoma in /Users/valentinabuoro/miniconda3/lib/python3.12/site-packages (1.15.7)\n",
      "Requirement already satisfied: anndata>=0.10.1 in /Users/valentinabuoro/miniconda3/lib/python3.12/site-packages (from tiledbsoma) (0.11.3)\n",
      "Requirement already satisfied: attrs>=22.2 in /Users/valentinabuoro/miniconda3/lib/python3.12/site-packages (from tiledbsoma) (23.2.0)\n",
      "Requirement already satisfied: numpy in /Users/valentinabuoro/miniconda3/lib/python3.12/site-packages (from tiledbsoma) (1.26.4)\n",
      "Requirement already satisfied: pandas in /Users/valentinabuoro/miniconda3/lib/python3.12/site-packages (from tiledbsoma) (2.2.3)\n",
      "Requirement already satisfied: pyarrow in /Users/valentinabuoro/miniconda3/lib/python3.12/site-packages (from tiledbsoma) (19.0.1)\n",
      "Requirement already satisfied: scanpy>=1.9.2 in /Users/valentinabuoro/miniconda3/lib/python3.12/site-packages (from tiledbsoma) (1.11.0)\n",
      "Requirement already satisfied: scipy in /Users/valentinabuoro/miniconda3/lib/python3.12/site-packages (from tiledbsoma) (1.15.2)\n",
      "Requirement already satisfied: somacore==1.0.26 in /Users/valentinabuoro/miniconda3/lib/python3.12/site-packages (from tiledbsoma) (1.0.26)\n",
      "Requirement already satisfied: typing-extensions in /Users/valentinabuoro/miniconda3/lib/python3.12/site-packages (from tiledbsoma) (4.12.2)\n",
      "Requirement already satisfied: pyarrow-hotfix in /Users/valentinabuoro/miniconda3/lib/python3.12/site-packages (from somacore==1.0.26->tiledbsoma) (0.6)\n",
      "Requirement already satisfied: shapely in /Users/valentinabuoro/miniconda3/lib/python3.12/site-packages (from somacore==1.0.26->tiledbsoma) (2.0.7)\n",
      "Requirement already satisfied: array-api-compat!=1.5,>1.4 in /Users/valentinabuoro/miniconda3/lib/python3.12/site-packages (from anndata>=0.10.1->tiledbsoma) (1.11.2)\n",
      "Requirement already satisfied: h5py>=3.7 in /Users/valentinabuoro/miniconda3/lib/python3.12/site-packages (from anndata>=0.10.1->tiledbsoma) (3.13.0)\n",
      "Requirement already satisfied: natsort in /Users/valentinabuoro/miniconda3/lib/python3.12/site-packages (from anndata>=0.10.1->tiledbsoma) (8.4.0)\n",
      "Requirement already satisfied: packaging>=20.0 in /Users/valentinabuoro/miniconda3/lib/python3.12/site-packages (from anndata>=0.10.1->tiledbsoma) (23.1)\n",
      "Requirement already satisfied: python-dateutil>=2.8.2 in /Users/valentinabuoro/miniconda3/lib/python3.12/site-packages (from pandas->tiledbsoma) (2.9.0.post0)\n",
      "Requirement already satisfied: pytz>=2020.1 in /Users/valentinabuoro/miniconda3/lib/python3.12/site-packages (from pandas->tiledbsoma) (2024.1)\n",
      "Requirement already satisfied: tzdata>=2022.7 in /Users/valentinabuoro/miniconda3/lib/python3.12/site-packages (from pandas->tiledbsoma) (2025.1)\n",
      "Requirement already satisfied: joblib in /Users/valentinabuoro/miniconda3/lib/python3.12/site-packages (from scanpy>=1.9.2->tiledbsoma) (1.4.2)\n",
      "Requirement already satisfied: legacy-api-wrap>=1.4 in /Users/valentinabuoro/miniconda3/lib/python3.12/site-packages (from scanpy>=1.9.2->tiledbsoma) (1.4.1)\n",
      "Requirement already satisfied: matplotlib>=3.6 in /Users/valentinabuoro/miniconda3/lib/python3.12/site-packages (from scanpy>=1.9.2->tiledbsoma) (3.10.1)\n",
      "Requirement already satisfied: networkx>=2.7 in /Users/valentinabuoro/miniconda3/lib/python3.12/site-packages (from scanpy>=1.9.2->tiledbsoma) (3.4.2)\n",
      "Requirement already satisfied: numba>=0.57 in /Users/valentinabuoro/miniconda3/lib/python3.12/site-packages (from scanpy>=1.9.2->tiledbsoma) (0.61.0)\n",
      "Requirement already satisfied: patsy!=1.0.0 in /Users/valentinabuoro/miniconda3/lib/python3.12/site-packages (from scanpy>=1.9.2->tiledbsoma) (1.0.1)\n",
      "Requirement already satisfied: pynndescent>=0.5 in /Users/valentinabuoro/miniconda3/lib/python3.12/site-packages (from scanpy>=1.9.2->tiledbsoma) (0.5.13)\n",
      "Requirement already satisfied: scikit-learn<1.6.0,>=1.1 in /Users/valentinabuoro/miniconda3/lib/python3.12/site-packages (from scanpy>=1.9.2->tiledbsoma) (1.2.2)\n",
      "Requirement already satisfied: seaborn>=0.13 in /Users/valentinabuoro/miniconda3/lib/python3.12/site-packages (from scanpy>=1.9.2->tiledbsoma) (0.13.2)\n",
      "Requirement already satisfied: session-info2 in /Users/valentinabuoro/miniconda3/lib/python3.12/site-packages (from scanpy>=1.9.2->tiledbsoma) (0.1.2)\n",
      "Requirement already satisfied: statsmodels>=0.13 in /Users/valentinabuoro/miniconda3/lib/python3.12/site-packages (from scanpy>=1.9.2->tiledbsoma) (0.14.4)\n",
      "Requirement already satisfied: tqdm in /Users/valentinabuoro/miniconda3/lib/python3.12/site-packages (from scanpy>=1.9.2->tiledbsoma) (4.67.1)\n",
      "Requirement already satisfied: umap-learn!=0.5.0,>=0.5 in /Users/valentinabuoro/miniconda3/lib/python3.12/site-packages (from scanpy>=1.9.2->tiledbsoma) (0.5.7)\n",
      "Requirement already satisfied: contourpy>=1.0.1 in /Users/valentinabuoro/miniconda3/lib/python3.12/site-packages (from matplotlib>=3.6->scanpy>=1.9.2->tiledbsoma) (1.3.1)\n",
      "Requirement already satisfied: cycler>=0.10 in /Users/valentinabuoro/miniconda3/lib/python3.12/site-packages (from matplotlib>=3.6->scanpy>=1.9.2->tiledbsoma) (0.12.1)\n",
      "Requirement already satisfied: fonttools>=4.22.0 in /Users/valentinabuoro/miniconda3/lib/python3.12/site-packages (from matplotlib>=3.6->scanpy>=1.9.2->tiledbsoma) (4.56.0)\n",
      "Requirement already satisfied: kiwisolver>=1.3.1 in /Users/valentinabuoro/miniconda3/lib/python3.12/site-packages (from matplotlib>=3.6->scanpy>=1.9.2->tiledbsoma) (1.4.8)\n",
      "Requirement already satisfied: pillow>=8 in /Users/valentinabuoro/miniconda3/lib/python3.12/site-packages (from matplotlib>=3.6->scanpy>=1.9.2->tiledbsoma) (11.1.0)\n",
      "Requirement already satisfied: pyparsing>=2.3.1 in /Users/valentinabuoro/miniconda3/lib/python3.12/site-packages (from matplotlib>=3.6->scanpy>=1.9.2->tiledbsoma) (3.2.1)\n",
      "Requirement already satisfied: llvmlite<0.45,>=0.44.0dev0 in /Users/valentinabuoro/miniconda3/lib/python3.12/site-packages (from numba>=0.57->scanpy>=1.9.2->tiledbsoma) (0.44.0)\n",
      "Requirement already satisfied: six>=1.5 in /Users/valentinabuoro/miniconda3/lib/python3.12/site-packages (from python-dateutil>=2.8.2->pandas->tiledbsoma) (1.16.0)\n",
      "Requirement already satisfied: threadpoolctl>=2.0.0 in /Users/valentinabuoro/miniconda3/lib/python3.12/site-packages (from scikit-learn<1.6.0,>=1.1->scanpy>=1.9.2->tiledbsoma) (3.6.0)\n",
      "Requirement already satisfied: ersilia in /Users/valentinabuoro/miniconda3/lib/python3.12/site-packages (0.1.42)\n",
      "Requirement already satisfied: PyYAML<7.0.0,>=6.0.1 in /Users/valentinabuoro/miniconda3/lib/python3.12/site-packages (from ersilia) (6.0.1)\n",
      "Requirement already satisfied: aiofiles<=24.1.0 in /Users/valentinabuoro/miniconda3/lib/python3.12/site-packages (from ersilia) (24.1.0)\n",
      "Requirement already satisfied: aiohttp>=3.10.11 in /Users/valentinabuoro/miniconda3/lib/python3.12/site-packages (from ersilia) (3.11.14)\n",
      "Requirement already satisfied: boto3<2.0.0,>=1.28.40 in /Users/valentinabuoro/miniconda3/lib/python3.12/site-packages (from ersilia) (1.37.21)\n",
      "Requirement already satisfied: click<9.0.0,>=8.1.7 in /Users/valentinabuoro/miniconda3/lib/python3.12/site-packages (from ersilia) (8.1.8)\n",
      "Requirement already satisfied: docker<8.0.0,>=7.1.0 in /Users/valentinabuoro/miniconda3/lib/python3.12/site-packages (from ersilia) (7.1.0)\n",
      "Requirement already satisfied: dockerfile-parse<3.0.0,>=2.0.1 in /Users/valentinabuoro/miniconda3/lib/python3.12/site-packages (from ersilia) (2.0.1)\n",
      "Requirement already satisfied: emoji<3.0.0,>=2.8.0 in /Users/valentinabuoro/miniconda3/lib/python3.12/site-packages (from ersilia) (2.14.1)\n",
      "Requirement already satisfied: h5py<4.0.0,>=3.7.0 in /Users/valentinabuoro/miniconda3/lib/python3.12/site-packages (from ersilia) (3.13.0)\n",
      "Requirement already satisfied: inputimeout<2.0.0,>=1.0.4 in /Users/valentinabuoro/miniconda3/lib/python3.12/site-packages (from ersilia) (1.0.4)\n",
      "Requirement already satisfied: loguru>=0.7.0 in /Users/valentinabuoro/miniconda3/lib/python3.12/site-packages (from ersilia) (0.7.3)\n",
      "Requirement already satisfied: nest_asyncio<=1.6.0 in /Users/valentinabuoro/miniconda3/lib/python3.12/site-packages (from ersilia) (1.6.0)\n",
      "Requirement already satisfied: numpy<=1.26.4 in /Users/valentinabuoro/miniconda3/lib/python3.12/site-packages (from ersilia) (1.26.4)\n",
      "Requirement already satisfied: psutil>=5.9.0 in /Users/valentinabuoro/miniconda3/lib/python3.12/site-packages (from ersilia) (5.9.0)\n",
      "Requirement already satisfied: requests<3.0.0,>=2.31.0 in /Users/valentinabuoro/miniconda3/lib/python3.12/site-packages (from ersilia) (2.31.0)\n",
      "Requirement already satisfied: tqdm<5.0.0,>=4.66.1 in /Users/valentinabuoro/miniconda3/lib/python3.12/site-packages (from ersilia) (4.67.1)\n",
      "Requirement already satisfied: validators<0.22.0,>=0.21.0 in /Users/valentinabuoro/miniconda3/lib/python3.12/site-packages (from ersilia) (0.21.2)\n",
      "Requirement already satisfied: aiohappyeyeballs>=2.3.0 in /Users/valentinabuoro/miniconda3/lib/python3.12/site-packages (from aiohttp>=3.10.11->ersilia) (2.6.1)\n",
      "Requirement already satisfied: aiosignal>=1.1.2 in /Users/valentinabuoro/miniconda3/lib/python3.12/site-packages (from aiohttp>=3.10.11->ersilia) (1.3.2)\n",
      "Requirement already satisfied: attrs>=17.3.0 in /Users/valentinabuoro/miniconda3/lib/python3.12/site-packages (from aiohttp>=3.10.11->ersilia) (23.2.0)\n",
      "Requirement already satisfied: frozenlist>=1.1.1 in /Users/valentinabuoro/miniconda3/lib/python3.12/site-packages (from aiohttp>=3.10.11->ersilia) (1.5.0)\n",
      "Requirement already satisfied: multidict<7.0,>=4.5 in /Users/valentinabuoro/miniconda3/lib/python3.12/site-packages (from aiohttp>=3.10.11->ersilia) (6.2.0)\n",
      "Requirement already satisfied: propcache>=0.2.0 in /Users/valentinabuoro/miniconda3/lib/python3.12/site-packages (from aiohttp>=3.10.11->ersilia) (0.3.0)\n",
      "Requirement already satisfied: yarl<2.0,>=1.17.0 in /Users/valentinabuoro/miniconda3/lib/python3.12/site-packages (from aiohttp>=3.10.11->ersilia) (1.18.3)\n",
      "Collecting botocore<1.38.0,>=1.37.21 (from boto3<2.0.0,>=1.28.40->ersilia)\n",
      "  Downloading botocore-1.37.23-py3-none-any.whl.metadata (5.7 kB)\n",
      "Requirement already satisfied: jmespath<2.0.0,>=0.7.1 in /Users/valentinabuoro/miniconda3/lib/python3.12/site-packages (from boto3<2.0.0,>=1.28.40->ersilia) (1.0.1)\n",
      "Requirement already satisfied: s3transfer<0.12.0,>=0.11.0 in /Users/valentinabuoro/miniconda3/lib/python3.12/site-packages (from boto3<2.0.0,>=1.28.40->ersilia) (0.11.4)\n",
      "Requirement already satisfied: urllib3>=1.26.0 in /Users/valentinabuoro/miniconda3/lib/python3.12/site-packages (from docker<8.0.0,>=7.1.0->ersilia) (2.1.0)\n",
      "Requirement already satisfied: charset-normalizer<4,>=2 in /Users/valentinabuoro/miniconda3/lib/python3.12/site-packages (from requests<3.0.0,>=2.31.0->ersilia) (2.0.4)\n",
      "Requirement already satisfied: idna<4,>=2.5 in /Users/valentinabuoro/miniconda3/lib/python3.12/site-packages (from requests<3.0.0,>=2.31.0->ersilia) (3.4)\n",
      "Requirement already satisfied: certifi>=2017.4.17 in /Users/valentinabuoro/miniconda3/lib/python3.12/site-packages (from requests<3.0.0,>=2.31.0->ersilia) (2025.1.31)\n",
      "Requirement already satisfied: python-dateutil<3.0.0,>=2.1 in /Users/valentinabuoro/miniconda3/lib/python3.12/site-packages (from botocore<1.38.0,>=1.37.21->boto3<2.0.0,>=1.28.40->ersilia) (2.9.0.post0)\n",
      "Requirement already satisfied: six>=1.5 in /Users/valentinabuoro/miniconda3/lib/python3.12/site-packages (from python-dateutil<3.0.0,>=2.1->botocore<1.38.0,>=1.37.21->boto3<2.0.0,>=1.28.40->ersilia) (1.16.0)\n",
      "Downloading botocore-1.37.23-py3-none-any.whl (13.4 MB)\n",
      "\u001b[2K   \u001b[90m━━━━━━━━━━━━━━━━━━━━━━━━━━━━━━━━━━━━━━━━\u001b[0m \u001b[32m13.4/13.4 MB\u001b[0m \u001b[31m450.9 kB/s\u001b[0m eta \u001b[36m0:00:00\u001b[0m00:01\u001b[0m00:01\u001b[0m\n",
      "Installing collected packages: botocore\n",
      "  Attempting uninstall: botocore\n",
      "    Found existing installation: botocore 1.37.1\n",
      "    Uninstalling botocore-1.37.1:\n",
      "      Successfully uninstalled botocore-1.37.1\n"
     ]
    },
    {
     "name": "stderr",
     "output_type": "stream",
     "text": [
      "\u001b[31mERROR: pip's dependency resolver does not currently take into account all the packages that are installed. This behaviour is the source of the following dependency conflicts.\n",
      "aiobotocore 2.21.1 requires botocore<1.37.2,>=1.37.0, but you have botocore 1.37.23 which is incompatible.\u001b[0m\u001b[31m\n",
      "\u001b[0m"
     ]
    },
    {
     "name": "stdout",
     "output_type": "stream",
     "text": [
      "Successfully installed botocore-1.37.23\n",
      "Collecting xgboost\n",
      "  Downloading xgboost-3.0.0-py3-none-macosx_12_0_arm64.whl.metadata (2.1 kB)\n",
      "Requirement already satisfied: numpy in /Users/valentinabuoro/miniconda3/lib/python3.12/site-packages (from xgboost) (1.26.4)\n",
      "Requirement already satisfied: scipy in /Users/valentinabuoro/miniconda3/lib/python3.12/site-packages (from xgboost) (1.15.2)\n",
      "Downloading xgboost-3.0.0-py3-none-macosx_12_0_arm64.whl (2.0 MB)\n",
      "\u001b[2K   \u001b[90m━━━━━━━━━━━━━━━━━━━━━━━━━━━━━━━━━━━━━━━━\u001b[0m \u001b[32m2.0/2.0 MB\u001b[0m \u001b[31m2.3 MB/s\u001b[0m eta \u001b[36m0:00:00\u001b[0m00:01\u001b[0m00:01\u001b[0m0m\n",
      "Installing collected packages: xgboost\n",
      "Successfully installed xgboost-3.0.0\n"
     ]
    }
   ],
   "source": [
    "# uncomment the line below and run this code cell once\n",
    "# %run '../scripts/package_install.py'"
   ]
  },
  {
   "cell_type": "code",
   "execution_count": 2,
   "id": "296b1af5-7a7c-4aa6-8da1-fedda230bf6f",
   "metadata": {},
   "outputs": [],
   "source": [
    "import pandas as pd \n",
    "import numpy as np \n",
    "import matplotlib as np \n",
    "from sklearn.preprocessing import OneHotEncoder\n",
    "\n"
   ]
  },
  {
   "cell_type": "markdown",
   "id": "a9b8c4dd-902d-44a9-9498-61fa9f1d0b1d",
   "metadata": {},
   "source": [
    "# Loading Dataset From TDC package"
   ]
  },
  {
   "cell_type": "code",
   "execution_count": null,
   "id": "59e10d4d-baef-4eec-9634-1e7d8fc001fc",
   "metadata": {},
   "outputs": [],
   "source": [
    "# uncomment the line below and run this code cell once\n",
    "#%run '../scripts/data_loader.py'"
   ]
  },
  {
   "cell_type": "code",
   "execution_count": 4,
   "id": "fdb91c6d-3631-4569-a79b-6f028965b911",
   "metadata": {},
   "outputs": [],
   "source": [
    "train = pd.read_csv('../data/train.csv')\n",
    "valid = pd.read_csv('../data/valid.csv')\n",
    "test = pd.read_csv('../data/test.csv')"
   ]
  },
  {
   "cell_type": "markdown",
   "id": "8c6b9f6d-30b3-4537-9065-a61bd9d48b23",
   "metadata": {},
   "source": [
    "# Exploratory Data Analysis"
   ]
  },
  {
   "cell_type": "code",
   "execution_count": 5,
   "id": "6b5db03e-8992-45ba-a8f5-a31fb5f93ab1",
   "metadata": {},
   "outputs": [
    {
     "name": "stdout",
     "output_type": "stream",
     "text": [
      "The shape of the training set is:(134265, 6)\n",
      "The shape of the cross-validation set is:(19181, 6)\n",
      "The shape of the test set is:(38362, 6)\n"
     ]
    }
   ],
   "source": [
    "print(f'The shape of the training set is:{train.shape}')\n",
    "print(f'The shape of the cross-validation set is:{valid.shape}')\n",
    "print(f'The shape of the test set is:{test.shape}')"
   ]
  },
  {
   "cell_type": "code",
   "execution_count": 6,
   "id": "dd64af0b-b5b0-4a5a-b328-5b3d6b6cbec7",
   "metadata": {},
   "outputs": [
    {
     "name": "stdout",
     "output_type": "stream",
     "text": [
      "<class 'pandas.core.frame.DataFrame'>\n",
      "RangeIndex: 134265 entries, 0 to 134264\n",
      "Data columns (total 6 columns):\n",
      " #   Column      Non-Null Count   Dtype \n",
      "---  ------      --------------   ----- \n",
      " 0   Unnamed: 0  134265 non-null  int64 \n",
      " 1   Drug1_ID    134265 non-null  object\n",
      " 2   Drug1       134265 non-null  object\n",
      " 3   Drug2_ID    134265 non-null  object\n",
      " 4   Drug2       134265 non-null  object\n",
      " 5   Y           134265 non-null  int64 \n",
      "dtypes: int64(2), object(4)\n",
      "memory usage: 6.1+ MB\n"
     ]
    }
   ],
   "source": [
    "train.info()"
   ]
  },
  {
   "cell_type": "markdown",
   "id": "536f87d5-c24a-4000-bd59-9d5048d6628b",
   "metadata": {},
   "source": [
    "### train.info() returns information about the train dataset, namely the column names, and their data types\n",
    "From the result above, the first column is the serial number. The dataset will be cleaned and the first column removed"
   ]
  },
  {
   "cell_type": "code",
   "execution_count": 7,
   "id": "ed61eeb4-6e02-460b-be62-850a1825ec91",
   "metadata": {},
   "outputs": [],
   "source": [
    "train = train.drop(train.columns[0], axis=1)"
   ]
  },
  {
   "cell_type": "code",
   "execution_count": 8,
   "id": "0e26cf6c-eb6a-441c-bc4b-b452e50be6f5",
   "metadata": {},
   "outputs": [
    {
     "name": "stdout",
     "output_type": "stream",
     "text": [
      "<class 'pandas.core.frame.DataFrame'>\n",
      "RangeIndex: 134265 entries, 0 to 134264\n",
      "Data columns (total 5 columns):\n",
      " #   Column    Non-Null Count   Dtype \n",
      "---  ------    --------------   ----- \n",
      " 0   Drug1_ID  134265 non-null  object\n",
      " 1   Drug1     134265 non-null  object\n",
      " 2   Drug2_ID  134265 non-null  object\n",
      " 3   Drug2     134265 non-null  object\n",
      " 4   Y         134265 non-null  int64 \n",
      "dtypes: int64(1), object(4)\n",
      "memory usage: 5.1+ MB\n"
     ]
    }
   ],
   "source": [
    "train.info()"
   ]
  },
  {
   "cell_type": "code",
   "execution_count": 9,
   "id": "69f495c5-2e32-4688-a945-8de8ef52d3fc",
   "metadata": {},
   "outputs": [
    {
     "name": "stdout",
     "output_type": "stream",
     "text": [
      "<class 'pandas.core.frame.DataFrame'>\n",
      "RangeIndex: 38362 entries, 0 to 38361\n",
      "Data columns (total 6 columns):\n",
      " #   Column      Non-Null Count  Dtype \n",
      "---  ------      --------------  ----- \n",
      " 0   Unnamed: 0  38362 non-null  int64 \n",
      " 1   Drug1_ID    38362 non-null  object\n",
      " 2   Drug1       38362 non-null  object\n",
      " 3   Drug2_ID    38362 non-null  object\n",
      " 4   Drug2       38362 non-null  object\n",
      " 5   Y           38362 non-null  int64 \n",
      "dtypes: int64(2), object(4)\n",
      "memory usage: 1.8+ MB\n"
     ]
    }
   ],
   "source": [
    "test.info()"
   ]
  },
  {
   "cell_type": "markdown",
   "id": "cbbf1ec8-f160-4384-abc0-d9a6b2ae7827",
   "metadata": {},
   "source": [
    "### test.info() returns information about the train dataset, namely the column names, and their data types\n",
    "From the result above, the first column is the serial number. The dataset will be cleaned and the first column removed"
   ]
  },
  {
   "cell_type": "code",
   "execution_count": 10,
   "id": "ce80a3ff-e076-4407-bd00-ff3823891e05",
   "metadata": {},
   "outputs": [],
   "source": [
    "test = test.drop(test.columns[0], axis=1)"
   ]
  },
  {
   "cell_type": "code",
   "execution_count": 11,
   "id": "62c6663f-1386-40f2-80fe-e71d5b46ccac",
   "metadata": {},
   "outputs": [
    {
     "name": "stdout",
     "output_type": "stream",
     "text": [
      "<class 'pandas.core.frame.DataFrame'>\n",
      "RangeIndex: 38362 entries, 0 to 38361\n",
      "Data columns (total 5 columns):\n",
      " #   Column    Non-Null Count  Dtype \n",
      "---  ------    --------------  ----- \n",
      " 0   Drug1_ID  38362 non-null  object\n",
      " 1   Drug1     38362 non-null  object\n",
      " 2   Drug2_ID  38362 non-null  object\n",
      " 3   Drug2     38362 non-null  object\n",
      " 4   Y         38362 non-null  int64 \n",
      "dtypes: int64(1), object(4)\n",
      "memory usage: 1.5+ MB\n"
     ]
    }
   ],
   "source": [
    "test.info()"
   ]
  },
  {
   "cell_type": "code",
   "execution_count": 12,
   "id": "142240b7-2fe7-4ebe-bb75-9c0d8e5a4bf1",
   "metadata": {},
   "outputs": [
    {
     "name": "stdout",
     "output_type": "stream",
     "text": [
      "<class 'pandas.core.frame.DataFrame'>\n",
      "RangeIndex: 19181 entries, 0 to 19180\n",
      "Data columns (total 6 columns):\n",
      " #   Column      Non-Null Count  Dtype \n",
      "---  ------      --------------  ----- \n",
      " 0   Unnamed: 0  19181 non-null  int64 \n",
      " 1   Drug1_ID    19181 non-null  object\n",
      " 2   Drug1       19181 non-null  object\n",
      " 3   Drug2_ID    19181 non-null  object\n",
      " 4   Drug2       19181 non-null  object\n",
      " 5   Y           19181 non-null  int64 \n",
      "dtypes: int64(2), object(4)\n",
      "memory usage: 899.2+ KB\n"
     ]
    }
   ],
   "source": [
    "valid.info()"
   ]
  },
  {
   "cell_type": "markdown",
   "id": "1b784161-869f-4b15-886d-59f7cfd4912b",
   "metadata": {},
   "source": [
    "### valid.info() returns information about the train dataset, namely the column names, and their data types\n",
    "From the result above, the first column is the serial number. The dataset will be cleaned and the first column removed"
   ]
  },
  {
   "cell_type": "code",
   "execution_count": 13,
   "id": "ed63ffce-cc0c-484d-ac1d-837c13e7a471",
   "metadata": {},
   "outputs": [],
   "source": [
    "valid = valid.drop(valid.columns[0], axis=1)"
   ]
  },
  {
   "cell_type": "code",
   "execution_count": 14,
   "id": "6f2dfc7b-4708-4b43-9578-043d1a7d05cd",
   "metadata": {},
   "outputs": [],
   "source": [
    "train_X = train.iloc[:, :-1]\n",
    "train_y = train.iloc[:, -1]"
   ]
  },
  {
   "cell_type": "code",
   "execution_count": 15,
   "id": "2d29f258-bacb-42ab-a464-0ed7c4a36f3e",
   "metadata": {},
   "outputs": [
    {
     "data": {
      "text/html": [
       "<div>\n",
       "<style scoped>\n",
       "    .dataframe tbody tr th:only-of-type {\n",
       "        vertical-align: middle;\n",
       "    }\n",
       "\n",
       "    .dataframe tbody tr th {\n",
       "        vertical-align: top;\n",
       "    }\n",
       "\n",
       "    .dataframe thead th {\n",
       "        text-align: right;\n",
       "    }\n",
       "</style>\n",
       "<table border=\"1\" class=\"dataframe\">\n",
       "  <thead>\n",
       "    <tr style=\"text-align: right;\">\n",
       "      <th></th>\n",
       "      <th>Drug1_ID</th>\n",
       "      <th>Drug1</th>\n",
       "      <th>Drug2_ID</th>\n",
       "      <th>Drug2</th>\n",
       "    </tr>\n",
       "  </thead>\n",
       "  <tbody>\n",
       "    <tr>\n",
       "      <th>0</th>\n",
       "      <td>DB04571</td>\n",
       "      <td>CC1=CC2=CC3=C(OC(=O)C=C3C)C(C)=C2O1</td>\n",
       "      <td>DB00460</td>\n",
       "      <td>COC(=O)CCC1=C2NC(\\C=C3/N=C(/C=C4\\N\\C(=C/C5=N/C...</td>\n",
       "    </tr>\n",
       "    <tr>\n",
       "      <th>1</th>\n",
       "      <td>DB09536</td>\n",
       "      <td>O=[Ti]=O</td>\n",
       "      <td>DB00460</td>\n",
       "      <td>COC(=O)CCC1=C2NC(\\C=C3/N=C(/C=C4\\N\\C(=C/C5=N/C...</td>\n",
       "    </tr>\n",
       "    <tr>\n",
       "      <th>2</th>\n",
       "      <td>DB01600</td>\n",
       "      <td>CC(C(O)=O)C1=CC=C(S1)C(=O)C1=CC=CC=C1</td>\n",
       "      <td>DB00460</td>\n",
       "      <td>COC(=O)CCC1=C2NC(\\C=C3/N=C(/C=C4\\N\\C(=C/C5=N/C...</td>\n",
       "    </tr>\n",
       "    <tr>\n",
       "      <th>3</th>\n",
       "      <td>DB09000</td>\n",
       "      <td>CC(CN(C)C)CN1C2=CC=CC=C2SC2=C1C=C(C=C2)C#N</td>\n",
       "      <td>DB00460</td>\n",
       "      <td>COC(=O)CCC1=C2NC(\\C=C3/N=C(/C=C4\\N\\C(=C/C5=N/C...</td>\n",
       "    </tr>\n",
       "    <tr>\n",
       "      <th>4</th>\n",
       "      <td>DB11630</td>\n",
       "      <td>OC1=CC=CC(=C1)C-1=C2\\CCC(=N2)\\C(=C2/N\\C(\\C=C2)...</td>\n",
       "      <td>DB00460</td>\n",
       "      <td>COC(=O)CCC1=C2NC(\\C=C3/N=C(/C=C4\\N\\C(=C/C5=N/C...</td>\n",
       "    </tr>\n",
       "  </tbody>\n",
       "</table>\n",
       "</div>"
      ],
      "text/plain": [
       "  Drug1_ID                                              Drug1 Drug2_ID  \\\n",
       "0  DB04571                CC1=CC2=CC3=C(OC(=O)C=C3C)C(C)=C2O1  DB00460   \n",
       "1  DB09536                                           O=[Ti]=O  DB00460   \n",
       "2  DB01600              CC(C(O)=O)C1=CC=C(S1)C(=O)C1=CC=CC=C1  DB00460   \n",
       "3  DB09000         CC(CN(C)C)CN1C2=CC=CC=C2SC2=C1C=C(C=C2)C#N  DB00460   \n",
       "4  DB11630  OC1=CC=CC(=C1)C-1=C2\\CCC(=N2)\\C(=C2/N\\C(\\C=C2)...  DB00460   \n",
       "\n",
       "                                               Drug2  \n",
       "0  COC(=O)CCC1=C2NC(\\C=C3/N=C(/C=C4\\N\\C(=C/C5=N/C...  \n",
       "1  COC(=O)CCC1=C2NC(\\C=C3/N=C(/C=C4\\N\\C(=C/C5=N/C...  \n",
       "2  COC(=O)CCC1=C2NC(\\C=C3/N=C(/C=C4\\N\\C(=C/C5=N/C...  \n",
       "3  COC(=O)CCC1=C2NC(\\C=C3/N=C(/C=C4\\N\\C(=C/C5=N/C...  \n",
       "4  COC(=O)CCC1=C2NC(\\C=C3/N=C(/C=C4\\N\\C(=C/C5=N/C...  "
      ]
     },
     "execution_count": 15,
     "metadata": {},
     "output_type": "execute_result"
    }
   ],
   "source": [
    "train_X.head()\n"
   ]
  },
  {
   "cell_type": "code",
   "execution_count": 16,
   "id": "6924245f-ac3b-4597-a52c-10f900b0c942",
   "metadata": {},
   "outputs": [
    {
     "data": {
      "text/plain": [
       "0    1\n",
       "1    1\n",
       "2    1\n",
       "3    1\n",
       "4    1\n",
       "Name: Y, dtype: int64"
      ]
     },
     "execution_count": 16,
     "metadata": {},
     "output_type": "execute_result"
    }
   ],
   "source": [
    "train_y.head()"
   ]
  },
  {
   "cell_type": "code",
   "execution_count": 17,
   "id": "1099dec9-f464-4234-bc28-9c9eabe1d6a3",
   "metadata": {},
   "outputs": [
    {
     "data": {
      "text/plain": [
       "Y\n",
       "49    42592\n",
       "47    24102\n",
       "73    16509\n",
       "75     6539\n",
       "60     5945\n",
       "      ...  \n",
       "43        7\n",
       "41        7\n",
       "26        6\n",
       "62        4\n",
       "42        3\n",
       "Name: count, Length: 86, dtype: int64"
      ]
     },
     "execution_count": 17,
     "metadata": {},
     "output_type": "execute_result"
    }
   ],
   "source": [
    "train_y.value_counts()"
   ]
  },
  {
   "cell_type": "code",
   "execution_count": 18,
   "id": "368fc7ef-73c4-4a59-ae7d-02ae362907ee",
   "metadata": {},
   "outputs": [
    {
     "data": {
      "text/plain": [
       "array([ 1,  2,  3,  4,  5,  6,  7,  8,  9, 10, 11, 12, 13, 14, 15, 16, 17,\n",
       "       18, 19, 20, 21, 22, 23, 24, 25, 26, 27, 28, 29, 30, 31, 32, 33, 34,\n",
       "       35, 36, 37, 38, 39, 40, 41, 42, 43, 44, 45, 46, 47, 48, 49, 50, 51,\n",
       "       52, 53, 54, 55, 56, 57, 58, 59, 60, 61, 62, 63, 64, 65, 66, 67, 68,\n",
       "       69, 70, 71, 72, 73, 74, 75, 76, 77, 78, 79, 80, 81, 82, 83, 84, 85,\n",
       "       86])"
      ]
     },
     "execution_count": 18,
     "metadata": {},
     "output_type": "execute_result"
    }
   ],
   "source": [
    "train_y.unique()"
   ]
  },
  {
   "cell_type": "markdown",
   "id": "b005b39c-4535-426f-8f62-2e643cd93c26",
   "metadata": {},
   "source": [
    "### To know what type of relation the label index corresponds to,run the cell below"
   ]
  },
  {
   "cell_type": "code",
   "execution_count": null,
   "id": "9cbaef01-a228-4ef4-aecf-9efbd1c93ef5",
   "metadata": {},
   "outputs": [],
   "source": [
    "from tdc.utils import get_label_map\n",
    "get_label_map(name = 'DrugBank', task = 'DDI')"
   ]
  },
  {
   "cell_type": "markdown",
   "id": "f64a9a19-0dca-4286-9fb3-f374d729cbe4",
   "metadata": {},
   "source": [
    "# Featurisation"
   ]
  },
  {
   "cell_type": "code",
   "execution_count": 21,
   "id": "3d5b84af-04d7-4538-a372-4953deba4599",
   "metadata": {},
   "outputs": [
    {
     "name": "stdout",
     "output_type": "stream",
     "text": [
      "Fetching model eos4wt0...\n",
      "Model fetched successfully\n",
      "🚀 Serving model eos4wt0: morgan-fps\n",
      "\n",
      "   URL: http://0.0.0.0:61381\n",
      "   PID: -1\n",
      "   SRV: pulled_docker\n",
      "   Output source: local-only\n",
      "\n",
      "👉 To run model:\n",
      "   - run\n",
      "\n",
      "💁 Information:\n",
      "   - info\n",
      "Ersilia model server is running\n",
      "Processing ../data/train.csv...\n",
      "Featurizing Drug1 from ../data/train.csv...\n",
      "Successfully featurized Drug1 in ../data/train.csv\n",
      "Featurizing Drug2 from ../data/train.csv...\n",
      "Successfully featurized Drug2 in ../data/train.csv\n",
      "Featurized data saved to ../data/featurised_train.csv\n",
      "Deleted temporary file: ../data/train_drug1.csv\n",
      "Deleted temporary file: ../data/train_drug1_feat.csv\n",
      "Deleted temporary file: ../data/train_drug2.csv\n",
      "Deleted temporary file: ../data/train_drug2_feat.csv\n",
      "Processing ../data/valid.csv...\n",
      "Featurizing Drug1 from ../data/valid.csv...\n",
      "Successfully featurized Drug1 in ../data/valid.csv\n",
      "Featurizing Drug2 from ../data/valid.csv...\n",
      "Successfully featurized Drug2 in ../data/valid.csv\n",
      "Featurized data saved to ../data/featurised_valid.csv\n",
      "Deleted temporary file: ../data/valid_drug1.csv\n",
      "Deleted temporary file: ../data/valid_drug1_feat.csv\n",
      "Deleted temporary file: ../data/valid_drug2.csv\n",
      "Deleted temporary file: ../data/valid_drug2_feat.csv\n",
      "Processing ../data/test.csv...\n",
      "Featurizing Drug1 from ../data/test.csv...\n",
      "Successfully featurized Drug1 in ../data/test.csv\n",
      "Featurizing Drug2 from ../data/test.csv...\n",
      "Successfully featurized Drug2 in ../data/test.csv\n",
      "Featurized data saved to ../data/featurised_test.csv\n",
      "Deleted temporary file: ../data/test_drug1.csv\n",
      "Deleted temporary file: ../data/test_drug1_feat.csv\n",
      "Deleted temporary file: ../data/test_drug2.csv\n",
      "Deleted temporary file: ../data/test_drug2_feat.csv\n",
      "Ersilia server stopped.\n"
     ]
    }
   ],
   "source": [
    "%run '../scripts/featuriser.py'"
   ]
  },
  {
   "cell_type": "code",
   "execution_count": null,
   "id": "f8f43dcb-2254-433e-a551-195d38257075",
   "metadata": {},
   "outputs": [],
   "source": []
  }
 ],
 "metadata": {
  "kernelspec": {
   "display_name": "Python 3 (ipykernel)",
   "language": "python",
   "name": "python3"
  },
  "language_info": {
   "codemirror_mode": {
    "name": "ipython",
    "version": 3
   },
   "file_extension": ".py",
   "mimetype": "text/x-python",
   "name": "python",
   "nbconvert_exporter": "python",
   "pygments_lexer": "ipython3",
   "version": "3.12.2"
  }
 },
 "nbformat": 4,
 "nbformat_minor": 5
}
